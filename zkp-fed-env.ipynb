{
 "cells": [
  {
   "cell_type": "markdown",
   "id": "c3f2c68e",
   "metadata": {},
   "source": [
    "### Imports & Settings"
   ]
  },
  {
   "cell_type": "code",
   "execution_count": 1,
   "id": "bc23df60",
   "metadata": {},
   "outputs": [],
   "source": [
    "from collections import Counter\n",
    "import time\n",
    "import numpy as np\n",
    "import pandas as pd\n",
    "import nn_model as nn\n",
    "from utils import *\n",
    "from utils import properties as p\n",
    "import hashlib\n",
    "import matplotlib.pyplot as plt\n",
    "import itertools\n",
    "from sklearn.metrics import f1_score\n",
    "from metrics import *\n",
    "from IPython.display import display\n",
    "import time"
   ]
  },
  {
   "cell_type": "code",
   "execution_count": 2,
   "id": "9ba910b8",
   "metadata": {},
   "outputs": [],
   "source": [
    "from noknow.core import ZK, ZKSignature, ZKParameters, ZKData, ZKProof\n",
    "import copy"
   ]
  },
  {
   "cell_type": "code",
   "execution_count": 3,
   "id": "b47266b4",
   "metadata": {},
   "outputs": [
    {
     "data": {
      "application/javascript": [
       "if (!(\"Notification\" in window)) {\n",
       "    alert(\"This browser does not support desktop notifications, so the %%notify magic will not work.\");\n",
       "} else if (Notification.permission !== 'granted' && Notification.permission !== 'denied') {\n",
       "    Notification.requestPermission(function (permission) {\n",
       "        if(!('permission' in Notification)) {\n",
       "            Notification.permission = permission;\n",
       "        }\n",
       "    })\n",
       "}\n"
      ],
      "text/plain": [
       "<IPython.core.display.Javascript object>"
      ]
     },
     "metadata": {},
     "output_type": "display_data"
    }
   ],
   "source": [
    "%load_ext jupyternotify\n",
    "%config InlineBackend.figure_format='retina'\n",
    "\n",
    "import warnings\n",
    "warnings.filterwarnings(\"ignore\")"
   ]
  },
  {
   "cell_type": "markdown",
   "id": "83ca69a3",
   "metadata": {},
   "source": [
    "### Parameters"
   ]
  },
  {
   "cell_type": "code",
   "execution_count": 4,
   "id": "5ab0922c",
   "metadata": {},
   "outputs": [],
   "source": [
    "not_features = {\n",
    "    'ETHNICITY': ['ROCK', 'PAPER', 'SCISSORS', 'UNCATEGORIZED'],\n",
    "    'GENDER': ['ZERO', 'ONE']\n",
    "}\n",
    "\n",
    "p.update({\n",
    "        \n",
    "    'data_samples' : 20000,  \n",
    "    'privileged_group_proportion': 0.85,\n",
    "    \n",
    "})"
   ]
  },
  {
   "cell_type": "markdown",
   "id": "db2d8803",
   "metadata": {},
   "source": [
    "### ZKP Server"
   ]
  },
  {
   "cell_type": "code",
   "execution_count": 5,
   "id": "8576c787",
   "metadata": {},
   "outputs": [],
   "source": [
    "class ZKServer:\n",
    "    def __init__(self, password, features):\n",
    "        self.password = password\n",
    "        self.features = features\n",
    "        self.client_representations = {}\n",
    "        self.tokens = {}\n",
    "        self.initialized_zk_features = False\n",
    "        \n",
    "        for el in features:\n",
    "            self.client_representations[el] = []\n",
    "            self.tokens[el] = []\n",
    "        self.zk = ZK.new(curve_name=\"secp384r1\", hash_alg=\"sha3_512\")\n",
    "        self.signature: ZKSignature = self.zk.create_signature(password)\n",
    "            \n",
    "        self.groups = {}\n",
    "        for f in self.features:\n",
    "            self.groups[f] = Counter()\n",
    "            \n",
    "    def load_client_signature(self, signature):\n",
    "        #load client signature\n",
    "        client_signature = ZKSignature.load(signature)\n",
    "        return ZK(client_signature.params)\n",
    "    \n",
    "    def create_token(self, feature, signature):\n",
    "        #load client signature\n",
    "        client_signature = ZKSignature.load(signature)\n",
    "        client_zk = ZK(client_signature.params)\n",
    "        # Create a signed token and send to the client\n",
    "        token = self.zk.sign(self.password, client_zk.token()).dump(separator=\":\")\n",
    "        self.tokens[feature] += [token]\n",
    "        self.client_representations[feature] += [{'signature' : client_signature, 'zk' : client_zk}]\n",
    "        assert token in self.tokens[feature]\n",
    "        return token\n",
    "        \n",
    "    def verify_clients(self, feature, signature):\n",
    "        # Get the token from the client\n",
    "        proof = ZKData.load(signature)\n",
    "        token = ZKData.load(proof.data, \":\")\n",
    "        \n",
    "        proofs = []\n",
    "        # In this example, the server signs the token so it can be sure it has not been modified\n",
    "        for label in self.client_representations[feature]:\n",
    "            client_signature = label['signature']\n",
    "            client_zk = label['zk']\n",
    "            proofs += [self.verify_client(proof, token, client_signature, client_zk)]\n",
    "            \n",
    "        return sum(proofs) >= 1\n",
    "    \n",
    "    def verify_client(self, proof, token, client_signature, client_zk):\n",
    "        return self.zk.verify(token, self.signature) and \\\n",
    "                client_zk.verify(proof, client_signature, data=token)\n",
    "    \n",
    "    def verify(self, feature, signatures):\n",
    "        return sum([self.verify_clients(feature, s) for s in signatures]) >= 1\n",
    "    \n",
    "    def get_features_permutation(self):\n",
    "        balanced = []\n",
    "        for f in self.encrypted_features_dict:\n",
    "            balanced += [self.encrypted_features_dict[f]]\n",
    "        return list(itertools.product(*balanced))\n",
    "    \n",
    "    def init_zk(self, clients):\n",
    "        if self.initialized_zk_features:\n",
    "            print('Server already initialized')\n",
    "            return\n",
    "        \n",
    "        feature_dict = {}\n",
    "        \n",
    "        for c in clients:\n",
    "            self.create_token(c.feature, c.signature)\n",
    "            \n",
    "            if c.feature not in feature_dict:\n",
    "                feature_dict[c.feature] = [{'feature': c.feature, 'label': c.encrypt_label()}]\n",
    "            else:\n",
    "                feature_dict[c.feature] += [{'feature': c.feature, 'label': c.encrypt_label()}]\n",
    "        \n",
    "        self.encrypted_features_dict = feature_dict\n",
    "        \n",
    "        permutations = self.get_features_permutation()\n",
    "                \n",
    "        for individual in permutations:\n",
    "            for feat in individual:\n",
    "                self.groups[feat['feature']].update({feat['label']: 1})\n",
    "        self.initialized_zk_features = True"
   ]
  },
  {
   "cell_type": "markdown",
   "id": "e2bdd006",
   "metadata": {},
   "source": [
    "### ZKP Client"
   ]
  },
  {
   "cell_type": "code",
   "execution_count": 6,
   "id": "35cbaaae",
   "metadata": {},
   "outputs": [],
   "source": [
    "class ZKClient:\n",
    "    def __init__(self, feature, label):\n",
    "        self.zk = ZK.new(curve_name=\"secp256k1\", hash_alg=\"sha3_256\")\n",
    "        self.label = label\n",
    "        self.feature = feature\n",
    "        # Create signature and send to server\n",
    "        self.signature = self.zk.create_signature(label).dump()\n",
    "        \n",
    "    def set_label(self, label):\n",
    "        self.label = label\n",
    "        self.signature = self.zk.create_signature(label).dump()\n",
    "            \n",
    "    def create_proof(self, server_token):\n",
    "        # Create a proof that signs the provided token and sends to server\n",
    "        proof = self.zk.sign(self.label, server_token).dump()\n",
    "        return proof\n",
    "    \n",
    "    def create_proofs(self, server_tokens):\n",
    "        return [self.create_proof(t) for t in server_tokens]\n",
    "    \n",
    "    def encrypt_label(self, encrypt=True):\n",
    "        #Create a secret hash\n",
    "        secret = hashlib.sha256()\n",
    "        #use the zk client salt value to encrypt the string\n",
    "        encrypted_label = self.label + str(self.zk.params.s)\n",
    "        #create the hash\n",
    "        secret.update(encrypted_label.encode('utf-8'))\n",
    "        \n",
    "        if encrypt:\n",
    "            return secret.hexdigest()\n",
    "        else:\n",
    "            return self.label #TESTING ONLY"
   ]
  },
  {
   "cell_type": "markdown",
   "id": "9d16ff22",
   "metadata": {},
   "source": [
    "### Server Initializer"
   ]
  },
  {
   "cell_type": "code",
   "execution_count": 7,
   "id": "61d946e8",
   "metadata": {},
   "outputs": [],
   "source": [
    "class ServerInitializer:\n",
    "    def __init__(self, features, client_prototype):\n",
    "        self.client_prototype = client_prototype\n",
    "        self.features = features\n",
    "        self.client_prototype_dict = dict()\n",
    "        \n",
    "    def create_clients(self):\n",
    "        clients = []\n",
    "        for feature in self.features:\n",
    "            self.client_prototype_dict[feature] = dict()\n",
    "            for label in self.features[feature]:\n",
    "                client = copy.copy(self.client_prototype)\n",
    "                client.feature = feature\n",
    "                client.set_label(label)\n",
    "                clients += [client]\n",
    "                self.client_prototype_dict[feature][label] = client\n",
    "        return clients    "
   ]
  },
  {
   "cell_type": "markdown",
   "id": "9529541c",
   "metadata": {},
   "source": [
    "### Client Initializer"
   ]
  },
  {
   "cell_type": "code",
   "execution_count": 8,
   "id": "f69c06df",
   "metadata": {},
   "outputs": [],
   "source": [
    "class ClientInitializer:\n",
    "    def __init__(self):\n",
    "        self.generated = False\n",
    "    def generate_client_prototype(self):\n",
    "        if not self.generated:\n",
    "            self.generated = True\n",
    "            return ZKClient('', '')"
   ]
  },
  {
   "cell_type": "markdown",
   "id": "3eaa8809",
   "metadata": {},
   "source": [
    "### Model classes"
   ]
  },
  {
   "cell_type": "code",
   "execution_count": 9,
   "id": "a28b8281",
   "metadata": {},
   "outputs": [],
   "source": [
    "#Server \n",
    "class FairServer(ZKServer):\n",
    "    def __init__(self, password, features, model, max_gap, gap, self_balancing=True):\n",
    "        super().__init__(password, features)\n",
    "        self.self_balancing = self_balancing\n",
    "        self.model = LearningModel(model)\n",
    "        self.workers = []\n",
    "        self.queue = {}\n",
    "        self.max_gap = max_gap\n",
    "        self.gap = gap\n",
    "        \n",
    "        \n",
    "    def register_worker(self, worker):\n",
    "        #if self.zk_authenticate(worker):\n",
    "        self.workers += [worker]\n",
    "        \n",
    "    def register_feature_group(self, feature, label):\n",
    "        self.groups[feature].update({label : 1})\n",
    "\n",
    "    def is_balanced(self, feature, label):\n",
    "        if len(self.groups[feature]) == 0:\n",
    "            return True\n",
    "        count = sum(count for n, count in self.groups[feature].items())\n",
    "        avg = count / len(self.groups[feature])\n",
    "        calc_gap = (self.groups[feature][label] + 1) - avg\n",
    "        #print(calc_gap/avg, calc_gap)\n",
    "        return (calc_gap / avg) <= self.gap or calc_gap <= self.max_gap\n",
    "    \n",
    "    def send_model(self, worker):\n",
    "        worker.load_model(self.model)\n",
    "        \n",
    "    def balanced_update(self, features):\n",
    "        #if self balancin is disabled return true\n",
    "        if not self.self_balancing:\n",
    "            return True\n",
    "        \n",
    "        return len(features) == sum([\n",
    "            self.is_balanced(list(f.keys())[0], list(f.values())[0])\n",
    "            for f \n",
    "            in features\n",
    "        ])\n",
    "    \n",
    "    def get_features_key_values(self, f):\n",
    "        return list(f.keys())[0], list(f.values())[0]\n",
    "        \n",
    "    def enqueue_worker(self, w_id, features):\n",
    "        labels = 0\n",
    "        for f in features: \n",
    "            k, v = self.get_features_key_values(f)\n",
    "            labels += int(v, 16) #hex\n",
    "        if str(labels) not in self.queue:\n",
    "            self.queue[str(labels)] = [w_id]\n",
    "        else:\n",
    "            self.queue[str(labels)] += [w_id]\n",
    "    \n",
    "    def load_update(self, w_id, features, weights):\n",
    "        if not self.balanced_update(features):\n",
    "            #print('Unbalanced id: ' + str(w_id))\n",
    "            self.enqueue_worker(w_id, features)\n",
    "            return\n",
    "        for f in features:\n",
    "            k, v = self.get_features_key_values(f)\n",
    "            self.register_feature_group(k, v)\n",
    "        self.model.set_weights(weights)\n",
    "        \n",
    "    def request_training(self, w):\n",
    "        w.train()\n",
    "        \n",
    "    def zk_authenticate(self, w):\n",
    "        #ZKP Authentication\n",
    "        verification = [\n",
    "            self.verify_clients(f, w.zkp_clients[f].create_proof(self.tokens[f][0]))\n",
    "            for f in self.features                                    \n",
    "        ]\n",
    "        auth = sum(verification) == len(self.features)\n",
    "        #print(('' if auth else 'Un') + 'authorized')\n",
    "        return auth\n",
    "    \n",
    "    def get_next_possible_updates(self):\n",
    "        possible = []\n",
    "        permutation = self.get_features_permutation()\n",
    "        for individual in permutation:\n",
    "            bal = [self.is_balanced(feat['feature'], feat['label']) for feat in individual]\n",
    "            if False not in bal:\n",
    "                possible += [individual]\n",
    "        return possible\n",
    "    \n",
    "    def get_possible_queues(self):\n",
    "        possible_updates = self.get_next_possible_updates()\n",
    "        queue_ids = []\n",
    "        for individual in possible_updates:\n",
    "            queue_ids += [str(sum([int(feat['label'], 16) for feat in individual]))]\n",
    "        return queue_ids\n",
    "    \n",
    "    def get_possible_workers(self):\n",
    "        q_ids = self.get_possible_queues()\n",
    "        possible_ids = [\n",
    "            q_id \n",
    "            for q_id in q_ids \n",
    "            if q_id in self.queue and len(self.queue[q_id]) != 0\n",
    "        ]\n",
    "        return self.queue[possible_ids[0]] if len(possible_ids) != 0 else []\n",
    "    \n",
    "    def get_worker(self, w_id):\n",
    "        return next(filter(lambda w: w.id == w_id, self.workers))\n",
    "    \n",
    "    def train(self):\n",
    "        #Sequential train of workers\n",
    "        for w in self.workers:\n",
    "            self.send_model(w)\n",
    "            self.request_training(w)\n",
    "        \n",
    "        #Balance the rest of the workers\n",
    "        possible_workers = self.get_possible_workers()\n",
    "        while len(possible_workers) != 0:\n",
    "            w_id = possible_workers.pop()\n",
    "            w = self.get_worker(w_id)\n",
    "            self.send_model(w)\n",
    "            self.request_training(w)\n",
    "            possible_workers = self.get_possible_workers()\n",
    "        \n",
    "    def fair_metrics(self):\n",
    "        return 'Fair metrics: '\n",
    "    \n",
    "    def predict(self, x):\n",
    "        return self.model.predict(x)\n",
    "    \n",
    "    def plot_hist(self, feature):\n",
    "        plt.title(feature)\n",
    "        x = np.arange(len(self.groups[feature]))\n",
    "        y = [self.groups[feature][value] for value in self.groups[feature]]\n",
    "        plt.bar(x, height=y)\n",
    "        plt.xticks([])\n",
    "        plt.ylabel(\"Probability\")\n",
    "        plt.xlabel(\"Data\")\n",
    "        plt.show()\n",
    "        \n",
    "    def count_updates(self):\n",
    "        if len(self.features) <= 0:\n",
    "            return 0\n",
    "        return sum(self.features[list(self.features.keys())[0]])\n",
    "        \n",
    "        \n",
    "        \n",
    "    def plot_hists(self, name):\n",
    "        fig, axs = plt.subplots(\n",
    "            1, len(self.features), \n",
    "            sharey=True, tight_layout=True, \n",
    "            figsize=(8, 4)\n",
    "        )\n",
    "        \n",
    "        for f, i in zip(self.features.keys(), range(len(self.features))):\n",
    "            axs[i].title.set_text(f)\n",
    "            x = np.arange(len(self.groups[f]))\n",
    "            y = [self.groups[f][value] for value in self.groups[f]]\n",
    "            axs[i].bar(x, height=y)\n",
    "            axs[i].set_xticks([], minor=False)\n",
    "            axs[i].set_ylabel(\"Probability\")\n",
    "            axs[i].set_xlabel(\"Data\")\n",
    "            s = sum(y)\n",
    "            \n",
    "        fig.suptitle(name + f', #records: {s}')\n",
    "        plt.show()\n",
    "        "
   ]
  },
  {
   "cell_type": "code",
   "execution_count": 10,
   "id": "c8152a14",
   "metadata": {},
   "outputs": [],
   "source": [
    "#Worker \n",
    "class Worker:\n",
    "    #secret_features must of the form {'f_name_1': 'f_value_1', 'f_name_2': 'f_value_2', ...}\n",
    "    def __init__(self, id_w, zkp_client_prototype, server, x, y, secret_features, prototypes_dict, encrypt=True):\n",
    "        self.id = id_w\n",
    "        self.zkp_client_prototype = zkp_client_prototype\n",
    "        self.server = server\n",
    "        self.model = {}\n",
    "        self.x = x\n",
    "        self.y = y\n",
    "        self.secret_features = secret_features\n",
    "        self.encrypt = encrypt\n",
    "        self.zkp_clients = {}\n",
    "        for f in secret_features.keys():\n",
    "            c = copy.copy(prototypes_dict[f][secret_features[f]])\n",
    "            self.zkp_clients[f] = c\n",
    "        \n",
    "    def send_registration(self):\n",
    "        self.server.register_worker(self)\n",
    "        \n",
    "    def prepare_features(self):\n",
    "        feature_to_send = []\n",
    "        for k in self.zkp_clients.keys():\n",
    "            c = self.zkp_clients[k]\n",
    "            secret = c.encrypt_label(self.encrypt)\n",
    "            feature_to_send += [{c.feature: secret}]\n",
    "        return feature_to_send\n",
    "                    \n",
    "    def load_model(self, model):\n",
    "        self.model = model\n",
    "        \n",
    "    def send_update(self, features, weights):\n",
    "        self.server.load_update(self.id, features, weights)\n",
    "        \n",
    "    def train(self):\n",
    "        features = self.prepare_features()\n",
    "        if self.server.balanced_update(features):\n",
    "            #print('Authorized to train')\n",
    "            self.model.train(self.x, self.y)\n",
    "        weights = self.model.get_weights()\n",
    "        self.send_update(features, weights)"
   ]
  },
  {
   "cell_type": "code",
   "execution_count": 11,
   "id": "fde08773",
   "metadata": {},
   "outputs": [],
   "source": [
    "class LearningModel:\n",
    "    def __init__(self, model, epochs=p['epochs_n'], learning_rate=p['learning_rate']):\n",
    "        self.model = model\n",
    "        self.epochs = epochs\n",
    "        self.learning_rate = learning_rate\n",
    "    \n",
    "    def set_weights(self, W):\n",
    "        self.model.load_weights(W)\n",
    "        \n",
    "    def get_weights(self):\n",
    "        return self.model.get_weights()\n",
    "    \n",
    "    def train(self, X, y):\n",
    "        self.model.fit(X, y, self.epochs, self.learning_rate)\n",
    "    \n",
    "    def predict(self, x):\n",
    "        return self.model.predict(x)"
   ]
  },
  {
   "cell_type": "markdown",
   "id": "71f94fd7",
   "metadata": {},
   "source": [
    "### ZKP-FED-Framework"
   ]
  },
  {
   "cell_type": "code",
   "execution_count": 12,
   "id": "76196faa",
   "metadata": {},
   "outputs": [],
   "source": [
    "class ZKPFEDFramework:\n",
    "    def __init__(self, features, not_features, gap=0.05, max_gap=5, data=[], self_balancing=True):\n",
    "        self.self_balancing = self_balancing\n",
    "        self.client_initializer = ClientInitializer()\n",
    "        self.client_prototype = self.client_initializer.generate_client_prototype()\n",
    "        self.features = features\n",
    "        self.not_features = not_features #TESTING\n",
    "        self.server_initializer = ServerInitializer(features, self.client_prototype)\n",
    "        self.client_prototype_dict = self.server_initializer.client_prototype_dict\n",
    "        self.gap = gap\n",
    "        self.max_gap = max_gap\n",
    "\n",
    "        #self.test_server()\n",
    "        \n",
    "        \n",
    "    #ZKP Assertions\n",
    "    def test_server(self):\n",
    "        #Create a mock server initializer with actual features\n",
    "        si_f = ServerInitializer(self.features, self.client_prototype)\n",
    "        \n",
    "        #Create a mock server initializer with unauthorized features (not_features)\n",
    "        si_n = ServerInitializer(self.not_features, self.client_prototype)\n",
    "        \n",
    "        #Create a mock server\n",
    "        server = ZKServer('password', p['features'])\n",
    "        \n",
    "        #Register authrized clients in the mock server\n",
    "        server.init_zk(si_f.create_clients())\n",
    "        \n",
    "        #Create proofs for authorized users\n",
    "        mock_clients_f = si_f.create_clients()\n",
    "        proofs_f = [server.verify(c.feature, c.create_proofs(server.tokens[c.feature])) \n",
    "                  for c \n",
    "                  in mock_clients_f]\n",
    "        \n",
    "        #Create proofs for unauthorized users\n",
    "        mock_clients_n = si_n.create_clients()\n",
    "        proofs_n = [server.verify_clients(c.feature, c.create_proof(server.tokens[c.feature][0])) \n",
    "                  for c \n",
    "                  in mock_clients_n]\n",
    "        \n",
    "        #Assert that all the registered clients get access to the server\n",
    "        assert sum(proofs_f) == len(mock_clients_f)\n",
    "        \n",
    "        #Assert that none of the non-registered clients get access to the server\n",
    "        assert sum(proofs_n) == 0\n",
    "        \n",
    "    #Create a server\n",
    "    def create_server(self, model):\n",
    "        fs = FairServer('password', p['features'], model, gap=self.gap, max_gap=self.max_gap, self_balancing=self.self_balancing)\n",
    "        fs.init_zk(self.server_initializer.create_clients())\n",
    "        return fs\n",
    "    \n",
    "    #Create workers\n",
    "    def create_workers(self, server, X, y, secret_features):\n",
    "        return [\n",
    "            Worker(\n",
    "                i, self.client_prototype, server, X[i], y[i], secret_features[i], self.client_prototype_dict\n",
    "            ) \n",
    "            for i in range(len(X))\n",
    "        ]\n",
    "\n",
    "    #Register all workers\n",
    "    def register_workers(self, workers):\n",
    "        for worker in workers:\n",
    "            worker.send_registration()\n",
    "\n",
    "    def start_training(self, server):\n",
    "        start_train = time.time()\n",
    "        server.train()\n",
    "        end_train = time.time()\n",
    "        #print('Training time:' + str(end_train - start_train))\n",
    "\n",
    "    def zkp_fed_training(self, model, X, y, secret):\n",
    "        start = tm()\n",
    "        s = self.create_server(model)\n",
    "        end = tm()\n",
    "        print(f'Server ready in {end - start}s')\n",
    "        start = tm()\n",
    "        ws = self.create_workers(s, X, y, secret)\n",
    "        end = tm()\n",
    "        print(f'Workers ready in {end - start}s')\n",
    "        start = tm()\n",
    "        self.register_workers(ws)\n",
    "        end = tm()\n",
    "        print(f'Workers registred in {end - start}s')\n",
    "        start = tm()\n",
    "        self.start_training(s)\n",
    "        end = tm()\n",
    "        print(f'Training complete in {end - start}s')\n",
    "        #print(s.fair_metrics())\n",
    "        return s#, ws"
   ]
  },
  {
   "cell_type": "markdown",
   "id": "79bf376c",
   "metadata": {},
   "source": [
    "## Evaluation"
   ]
  },
  {
   "cell_type": "markdown",
   "id": "a35a7776",
   "metadata": {},
   "source": [
    "### Model for reference"
   ]
  },
  {
   "cell_type": "code",
   "execution_count": 13,
   "id": "7356e632",
   "metadata": {},
   "outputs": [],
   "source": [
    "mult_fact = 2"
   ]
  },
  {
   "cell_type": "code",
   "execution_count": 14,
   "id": "d509354a",
   "metadata": {},
   "outputs": [],
   "source": [
    "# network (not federated)\n",
    "net = nn.get_3l_nn(2, 2, 1)\n",
    "\n",
    "X = np.array([[[[0, 0]]], [[[0, 1]]], [[[1, 0]]], [[[1, 1]]]] * mult_fact)\n",
    "y = np.array([[[[0]]], [[[1]]], [[[1]]], [[[0]]]] * mult_fact)\n",
    "\n",
    "#train\n",
    "for i in range(len(X)):\n",
    "    net.fit(X[i], y[i], epochs=p['epochs_n'], learning_rate=p['learning_rate'])\n",
    "\n",
    "# test\n",
    "out = net.predict(X)"
   ]
  },
  {
   "cell_type": "markdown",
   "id": "620b319b",
   "metadata": {},
   "source": [
    "### Model for Fed-Learning"
   ]
  },
  {
   "cell_type": "code",
   "execution_count": 15,
   "id": "b12deb8e",
   "metadata": {},
   "outputs": [],
   "source": [
    "X = np.array([[[[0, 0]]], [[[0, 1]]], [[[1, 0]]], [[[1, 1]]], [[[1, 2]]]] * mult_fact)\n",
    "y = np.array([[[[0]]], [[[1]]], [[[1]]], [[[0]]], [[[2]]]] * mult_fact)\n",
    "\n",
    "zkp_fed_framework = ZKPFEDFramework(p['features'], not_features, gap=100, max_gap=mult_fact*100)\n",
    "# network (for federated learning)\n",
    "net2 = nn.get_3l_nn(2, 2, 1)\n",
    "\n",
    "feature_groups = [\n",
    "    {\n",
    "        'ETHNICITY': get_rnd_ethnicity(),\n",
    "        'GENDER': get_rnd_gender()\n",
    "    } for _ in range(int(len(X)/mult_fact) - 1)] + [\n",
    "    {\n",
    "        'ETHNICITY': 'unauthorized',\n",
    "        'GENDER': get_rnd_gender()\n",
    "    }\n",
    "]\n",
    "\n",
    "feature_groups *= mult_fact\n",
    "\n",
    "#train\n",
    "#s = zkp_fed_framework.zkp_fed_training(net2, X, y, feature_groups)\n",
    "\n",
    "#test\n",
    "#out2 = s.predict([w.x for w in s.workers])"
   ]
  },
  {
   "cell_type": "markdown",
   "id": "ba23383c",
   "metadata": {},
   "source": [
    "### Test if the 2 models behave in the same way"
   ]
  },
  {
   "cell_type": "code",
   "execution_count": 16,
   "id": "ae0c1847",
   "metadata": {},
   "outputs": [],
   "source": [
    "#assert np.array_equal(out, out2)"
   ]
  },
  {
   "cell_type": "markdown",
   "id": "45dfa0f5",
   "metadata": {},
   "source": [
    "### Test if workers retain features"
   ]
  },
  {
   "cell_type": "code",
   "execution_count": 17,
   "id": "1fc9220d",
   "metadata": {},
   "outputs": [],
   "source": [
    "def test_features(z_fed):\n",
    "    w_groups = [w.secret_features for w in z_fed.s.workers] \n",
    "    test_groups = {}\n",
    "\n",
    "    salt = z_fed.client_prototype.zk.params.s\n",
    "\n",
    "    for f in p['features']:\n",
    "        test_groups[f] = Counter()\n",
    "\n",
    "    for t in w_groups:\n",
    "        for f in t.keys():\n",
    "            secret = hashlib.sha256()\n",
    "            label = t[f] + str(salt)\n",
    "            secret.update(label.encode('utf-8'))\n",
    "            label = secret.hexdigest()\n",
    "            test_groups[f].update({label : 1})\n",
    "\n",
    "    #check if the two counters are equal\n",
    "    assert test_groups == z_fed.s.groups"
   ]
  },
  {
   "cell_type": "markdown",
   "id": "50a5b055",
   "metadata": {},
   "source": [
    "## Usage"
   ]
  },
  {
   "cell_type": "markdown",
   "id": "fcdb1a2c",
   "metadata": {},
   "source": [
    "### Read data"
   ]
  },
  {
   "cell_type": "code",
   "execution_count": 18,
   "id": "a5e9a3b4",
   "metadata": {},
   "outputs": [],
   "source": [
    "df = pd.read_csv('../dataset/data.csv')"
   ]
  },
  {
   "cell_type": "markdown",
   "id": "9ff7b3b5",
   "metadata": {},
   "source": [
    "### Clean data"
   ]
  },
  {
   "cell_type": "code",
   "execution_count": 19,
   "id": "edd96412",
   "metadata": {},
   "outputs": [],
   "source": [
    "#Remove other ethnicities\n",
    "del p['ETHNICITIES'][4]\n",
    "df = df[df['ethnicity'] != 4]\n",
    "#print_summary(df)"
   ]
  },
  {
   "cell_type": "code",
   "execution_count": 20,
   "id": "ac5b9693",
   "metadata": {},
   "outputs": [],
   "source": [
    "def age_filter(df, age_min, age_max):\n",
    "    return (df['age'] >= age_min) & (df['age'] <= age_max)\n",
    "\n",
    "def ethnicity_gender_filter(df, i, j):\n",
    "    return (df['ethnicity'] == p['ETHNICITIES'][i]) & (df['gender'] == p['GENDERS'][j])\n",
    "\n",
    "def ethnicity_age_filter(df, e, age_min, age_max):\n",
    "    return (df['ethnicity'] == p['ETHNICITIES'][e]) & age_filter(df, age_min, age_max)\n",
    "\n",
    "def ethnicity_gender_age_filter(df, i, j, age_min, age_max):\n",
    "    return ethnicity_gender_filter(df, i, j) & age_filter(df, age_min, age_max)"
   ]
  },
  {
   "cell_type": "code",
   "execution_count": 21,
   "id": "3f55aaee",
   "metadata": {},
   "outputs": [],
   "source": [
    "#Prepare\n",
    "df = df.loc[age_filter(df, p['age_min'], p['age_max'])]\n",
    "df['ethnicity'] = df['ethnicity'].map(p['ETHNICITIES'])\n",
    "df['gender'] = df['gender'].map(p['GENDERS'])"
   ]
  },
  {
   "cell_type": "markdown",
   "id": "60265823",
   "metadata": {},
   "source": [
    "### Create balanced test dataset"
   ]
  },
  {
   "cell_type": "code",
   "execution_count": 22,
   "id": "aa4ac6b0",
   "metadata": {},
   "outputs": [],
   "source": [
    "def get_balanced_sample(df, samples=p['data_samples'], rnd=p['seed']):\n",
    "    #Ethnicity gender age sample size\n",
    "    ethnicity_age_sample_size = round(p['data_samples'] / (round(p['age_range']() / p['age_bins']) * len(p['ETHNICITIES'])))\n",
    "\n",
    "    balanced_df = pd.concat([\n",
    "        df.loc[ethnicity_age_filter(df, e, age_m, age_M)]\\\n",
    "            .sample(ethnicity_age_sample_size, random_state=p['seed'], replace=True)\n",
    "        for e in range(len(p['ETHNICITIES']))\n",
    "        #for j in range(len(GENDERS))\n",
    "        for (age_m, age_M) in p['bins']()\n",
    "    ])\n",
    "    \n",
    "    return balanced_df\n",
    "\n",
    "_, test_dataset = create_train_test(get_balanced_sample(df))\n",
    "\n",
    "ethn_test_x_y = create_all_ethnicities_X_y(test_dataset)\n",
    "X_test = prepare_X(test_dataset)\n",
    "y_test = prepare_y(test_dataset)"
   ]
  },
  {
   "cell_type": "code",
   "execution_count": 23,
   "id": "d10073df",
   "metadata": {},
   "outputs": [],
   "source": [
    "def create_unbalanced_set(df, minority_proportion=0.05, majority_group=0, rnd=0):\n",
    "    min_factor = minority_proportion # 5% of the population \n",
    "    maj_factor = 1 - min_factor\n",
    "\n",
    "    #Size of minority group\n",
    "    min_sample_size = round(p['data_samples'] * min_factor / len(p['bins']()) / (len(p['ETHNICITIES']) - 1))\n",
    "\n",
    "    #Size of majority group\n",
    "    maj_sample_size = round(p['data_samples'] * maj_factor / len(p['GENDERS']) / len(p['bins']()))\n",
    "\n",
    "    maj_male = pd.concat([\n",
    "        df.loc[ethnicity_gender_age_filter(df, majority_group, 0, age_min, age_max)]\\\n",
    "            .sample(maj_sample_size, random_state=rnd, replace=True)\n",
    "        for (age_min, age_max) in p['bins']()\n",
    "    ])\n",
    "\n",
    "    maj_female = pd.concat([\n",
    "        df.loc[ethnicity_gender_age_filter(df, majority_group, 1, age_min, age_max)]\\\n",
    "            .sample(maj_sample_size, random_state=rnd, replace=True)\n",
    "        for (age_min, age_max) in p['bins']()\n",
    "    ])\n",
    "\n",
    "    unbalanced_df = pd.concat([\n",
    "        df.loc[ethnicity_age_filter(df, e, age_min, age_max)]\\\n",
    "            .sample(min_sample_size, random_state=rnd, replace=True)\n",
    "        for e in range(len(p['ETHNICITIES']))\n",
    "        #for j in range(len(GENDERS))\n",
    "        for (age_min, age_max) in p['bins']()\n",
    "        if e != majority_group\n",
    "    ] + [maj_female, maj_male])\n",
    "    \n",
    "    return unbalanced_df"
   ]
  },
  {
   "cell_type": "markdown",
   "id": "89ff9d05",
   "metadata": {},
   "source": [
    "### Model"
   ]
  },
  {
   "cell_type": "code",
   "execution_count": 24,
   "id": "143ed454",
   "metadata": {},
   "outputs": [],
   "source": [
    "def standard_nn():\n",
    "    return nn.get_standard_nn(p['seed'])"
   ]
  },
  {
   "cell_type": "markdown",
   "id": "8648100f",
   "metadata": {},
   "source": [
    "### Evaluate predictive models"
   ]
  },
  {
   "cell_type": "code",
   "execution_count": 25,
   "id": "2d897f3d",
   "metadata": {},
   "outputs": [],
   "source": [
    "#Test dataset is unique and shared\n",
    "def evaluate_ethnicity(ethnicity, model, df_test):\n",
    "    ethn_y, ethn_y_pred = get_ethnicity_predictions(ethnicity, model, df_test)\n",
    "    score = f1_score(convert_output(ethn_y), convert_output(ethn_y_pred), average='macro')\n",
    "    return score\n",
    "\n",
    "def evaluate_all_ethnicities(model, df_test):\n",
    "    scores = [evaluate_ethnicity(e, model, df_test) for e in p['ETHNICITIES'].values()]\n",
    "    return dict(zip(p['ETHNICITIES'].values(), scores))\n",
    "\n",
    "def evaluate_ethnicity_accuracy(ethnicity, model, df_test):\n",
    "    ethn_y, ethn_y_pred = get_ethnicity_predictions(ethnicity, model, df_test)\n",
    "    return get_accuracy(convert_output(ethn_y), convert_output(ethn_y_pred))\n",
    "\n",
    "def evaluate_all_ethnicity_accuracy(model, df_test):\n",
    "    scores = [evaluate_ethnicity_accuracy(e, model, df_test) for e in p['ETHNICITIES'].values()]\n",
    "    return dict(zip(p['ETHNICITIES'].values(), scores))\n",
    "    \n",
    "\n",
    "def get_ethnicity_predictions(ethnicity, model, df_test):\n",
    "    #Uses global variable for time optimization\n",
    "    ethn_X = prepare_X(df_test[df_test['ethnicity'] == ethnicity])\n",
    "    ethn_y = prepare_y(df_test[df_test['ethnicity'] == ethnicity])   #y_true \n",
    "    ethn_y_pred = model.predict(ethn_X)                              #y_pred \n",
    "    return ethn_y, ethn_y_pred\n",
    "\n",
    "def ethnicity_equality_metric(\n",
    "    ethnicity, \n",
    "    model, \n",
    "    privileged_group, \n",
    "    ethn_y_p, \n",
    "    ethn_y_p_pred, \n",
    "    df_test,\n",
    "    metric_fun):\n",
    "    \n",
    "    if ethnicity == privileged_group:\n",
    "        return 0\n",
    "    \n",
    "    ethn_y_u, ethn_y_u_pred = get_ethnicity_predictions(ethnicity, model, df_test) #unprivileged\n",
    "        \n",
    "    return np.nanmean(metric_fun(\n",
    "        one_hot_vect_to_class(convert_output(ethn_y_p)), \n",
    "        one_hot_vect_to_class(convert_output(ethn_y_p_pred)), \n",
    "        one_hot_vect_to_class(convert_output(ethn_y_u)), \n",
    "        one_hot_vect_to_class(convert_output(ethn_y_u_pred))\n",
    "    ))\n",
    "    \n",
    "\n",
    "def all_ethnicity_equal_difference(\n",
    "    model, privileged_group, ethn_y_p, ethn_y_p_pred, df_test, metric_fn_list\n",
    "):\n",
    "    scores = [\n",
    "        np.nanmean(np.abs([\n",
    "            ethnicity_equality_metric(\n",
    "                e, \n",
    "                model, \n",
    "                privileged_group, \n",
    "                ethn_y_p, \n",
    "                ethn_y_p_pred,\n",
    "                df_test,\n",
    "                metric_fn\n",
    "            ) \n",
    "            for e in p['ETHNICITIES'].values()\n",
    "        ])) for metric_fn in metric_fn_list\n",
    "    ]\n",
    "    metrics_list = ['Avg. Abs. ' + m.__name__.replace('_', ' ').capitalize() for m in metric_fn_list]\n",
    "    return dict(zip(metrics_list, scores)) # + scores_eodd"
   ]
  },
  {
   "cell_type": "markdown",
   "id": "f04b4743",
   "metadata": {},
   "source": [
    "### Predict and evaluate"
   ]
  },
  {
   "cell_type": "code",
   "execution_count": 26,
   "id": "1e5556fa",
   "metadata": {},
   "outputs": [],
   "source": [
    "def predict_and_evaluate(model, df_test, privileged_group, exp_id):\n",
    "        \n",
    "    y_pred = model.predict(prepare_X(df_test)) #Global variable\n",
    "    ethn_y_p, ethn_y_p_pred = get_ethnicity_predictions(privileged_group, model, df_test) #privileged\n",
    "    \n",
    "    all_ethnicities_f1s = evaluate_all_ethnicities(model, df_test)\n",
    "    all_ethnicities_acc = evaluate_all_ethnicity_accuracy(model, df_test)\n",
    "    \n",
    "    ev = dict()\n",
    "    ev['experiment ID'] = exp_id + ' ' + privileged_group\n",
    "    ev['accuracy'] = get_accuracy(convert_output(prepare_y(df_test)), convert_output(y_pred))\n",
    "    ev['accuracy variance'] = macro_variance(ev['accuracy'], list(all_ethnicities_acc.values()))\n",
    "    ev['f1'] = f1_score(convert_output(prepare_y(df_test)), convert_output(y_pred), average='macro')\n",
    "    ev['f1 variance'] = macro_variance(ev['f1'], list(all_ethnicities_f1s.values()))\n",
    "    all_parities = all_ethnicity_equal_difference(\n",
    "        model, privileged_group, ethn_y_p, ethn_y_p_pred, df_test,\n",
    "        [\n",
    "            disparate_impact_ratio, \n",
    "            statistical_parity_difference, \n",
    "            equal_opportunity_difference,\n",
    "            equal_odd_difference\n",
    "        ]\n",
    "    )\n",
    "    ev.update(all_parities)\n",
    "    \n",
    "    return ev\n",
    "\n",
    "def compare_model_behaviour(\n",
    "    model_list, \n",
    "    df_test_list,\n",
    "    privileged_group_list, \n",
    "    exp_ids\n",
    "):\n",
    "    return [\n",
    "        predict_and_evaluate(\n",
    "            model_list[i], \n",
    "            df_test_list[i],\n",
    "            privileged_group_list[i], \n",
    "            exp_ids[i]\n",
    "        ) \n",
    "        for i in range(len(model_list))\n",
    "    ]"
   ]
  },
  {
   "cell_type": "markdown",
   "id": "1287cda5",
   "metadata": {},
   "source": [
    "### Create pair of self-balanced - imbalanced Z-Fed Framework\n",
    "The trained model will be extracted from the FairServer"
   ]
  },
  {
   "cell_type": "code",
   "execution_count": 27,
   "id": "8192f75a",
   "metadata": {},
   "outputs": [],
   "source": [
    "def create_and_train_zfed(\n",
    "    features,\n",
    "    not_features,\n",
    "    dataset,\n",
    "    privileged_group, #numeric\n",
    "    gap=0.05,\n",
    "    max_gap=1,\n",
    "    self_balancing=True,\n",
    "    privileged_group_proportion=0.95     \n",
    "):\n",
    "    zkp_fed_framework = ZKPFEDFramework(\n",
    "        features, not_features, \n",
    "        gap=gap, max_gap=max_gap, \n",
    "        self_balancing=self_balancing\n",
    "    )\n",
    "    \n",
    "    unprivileged_proportion = 1 - privileged_group_proportion\n",
    "    augment_fact = 1 if not self_balancing else round(1 / unprivileged_proportion)\n",
    "    df = pd.concat([\n",
    "            create_unbalanced_set(dataset, unprivileged_proportion, privileged_group, rnd=i)\n",
    "            for i in range(augment_fact)\n",
    "        ])\n",
    "    \n",
    "    df_train, df_test = create_train_test(df)\n",
    "    if self_balancing:\n",
    "        df_test = get_balanced_sample(df, int(len(dataset) * p['test_size']))\n",
    "    df_train.reset_index(inplace=True)\n",
    "        \n",
    "    feature_groups = [\n",
    "        {\n",
    "            'ETHNICITY': df_train.iloc[i]['ethnicity'],\n",
    "            'GENDER': df_train.iloc[i]['gender']\n",
    "        } \n",
    "        for i in df_train.index\n",
    "    ]\n",
    "\n",
    "    #train\n",
    "    s = zkp_fed_framework.zkp_fed_training(\n",
    "        standard_nn(), prepare_X(df_train), prepare_y(df_train), feature_groups\n",
    "    )\n",
    "    \n",
    "    return df_train, df_test, s"
   ]
  },
  {
   "cell_type": "code",
   "execution_count": 28,
   "id": "e1516faa",
   "metadata": {},
   "outputs": [],
   "source": [
    "def train_compare_pair_balanced_umbalanced(\n",
    "    features,\n",
    "    not_features,\n",
    "    dataset,\n",
    "    privileged_group, #numeric\n",
    "    gap=0.05,\n",
    "    max_gap=1,\n",
    "    privileged_group_proportion=0.85 \n",
    "):\n",
    "    df_train_b, df_test_b, s_b = create_and_train_zfed(\n",
    "        features,\n",
    "        not_features,\n",
    "        dataset,\n",
    "        privileged_group, #numeric\n",
    "        gap=gap,\n",
    "        max_gap=max_gap,\n",
    "        self_balancing=True,\n",
    "        privileged_group_proportion=privileged_group_proportion\n",
    "    )\n",
    "    \n",
    "    df_train_u, df_test_u, s_u = create_and_train_zfed(\n",
    "        features,\n",
    "        not_features,\n",
    "        dataset,\n",
    "        privileged_group, #numeric\n",
    "        gap=gap,\n",
    "        max_gap=max_gap,\n",
    "        self_balancing=False,\n",
    "        privileged_group_proportion=privileged_group_proportion\n",
    "    )\n",
    "    \n",
    "    start = tm()\n",
    "\n",
    "    metrics = compare_model_behaviour(\n",
    "        [s_b.model, s_u.model],\n",
    "        [df_test_b, df_test_u],\n",
    "        [p['ETHNICITIES'][privileged_group]] * 2,    \n",
    "        ['Self balanced [augmented]', 'Imbalanced']\n",
    "    )\n",
    "    end = tm()\n",
    "    print(f'Metrics evaluated in {end - start}')\n",
    "    \n",
    "    s_b.plot_hists('Self balanced [augmented]')\n",
    "    s_u.plot_hists('Imbalanced')\n",
    "    \n",
    "    plot_accuracy_comparison(s_b.model.model, s_u.model.model)\n",
    "    \n",
    "    return get_metrics_data(metrics)"
   ]
  },
  {
   "cell_type": "markdown",
   "id": "ed3771b1",
   "metadata": {},
   "source": [
    "### Get results"
   ]
  },
  {
   "cell_type": "code",
   "execution_count": 29,
   "id": "add64800",
   "metadata": {},
   "outputs": [
    {
     "name": "stdout",
     "output_type": "stream",
     "text": [
      "Server ready in 0.13153314590454102s\n",
      "Workers ready in 2.159926652908325s\n",
      "Workers registred in 0.08846712112426758s\n",
      "Training complete in 62.82887363433838s\n",
      "Server ready in 0.10677742958068848s\n",
      "Workers ready in 0.3317396640777588s\n",
      "Workers registred in 0.015626907348632812s\n",
      "Training complete in 49.64464569091797s\n",
      "Metrics evaluated in 243.9708034992218\n"
     ]
    },
    {
     "data": {
      "image/png": "[encoded data removed]",
      "text/plain": [
       "<Figure size 576x288 with 2 Axes>"
      ]
     },
     "metadata": {
      "image/png": {
       "height": 285,
       "width": 568
      },
      "needs_background": "light"
     },
     "output_type": "display_data"
    },
    {
     "data": {
      "image/png": "[encoded data removed]",
      "text/plain": [
       "<Figure size 576x288 with 2 Axes>"
      ]
     },
     "metadata": {
      "image/png": {
       "height": 285,
       "width": 568
      },
      "needs_background": "light"
     },
     "output_type": "display_data"
    },
    {
     "data": {
      "image/png": "[encoded data removed]",
      "text/plain": [
       "<Figure size 288x288 with 1 Axes>"
      ]
     },
     "metadata": {
      "image/png": {
       "height": 285,
       "width": 280
      },
      "needs_background": "light"
     },
     "output_type": "display_data"
    },
    {
     "name": "stdout",
     "output_type": "stream",
     "text": [
      "Samples: 20000, Epochs: 1, lr: 0.025, privileged proportion: 0.85%\n"
     ]
    },
    {
     "data": {
      "text/html": [
       "<div>\n",
       "<style scoped>\n",
       "    .dataframe tbody tr th:only-of-type {\n",
       "        vertical-align: middle;\n",
       "    }\n",
       "\n",
       "    .dataframe tbody tr th {\n",
       "        vertical-align: top;\n",
       "    }\n",
       "\n",
       "    .dataframe thead th {\n",
       "        text-align: right;\n",
       "    }\n",
       "</style>\n",
       "<table border=\"1\" class=\"dataframe\">\n",
       "  <thead>\n",
       "    <tr style=\"text-align: right;\">\n",
       "      <th></th>\n",
       "      <th>experiment ID</th>\n",
       "      <th>accuracy</th>\n",
       "      <th>accuracy variance</th>\n",
       "      <th>f1</th>\n",
       "      <th>f1 variance</th>\n",
       "      <th>Avg. Abs. Disparate impact ratio</th>\n",
       "      <th>Avg. Abs. Statistical parity difference</th>\n",
       "      <th>Avg. Abs. Equal opportunity difference</th>\n",
       "      <th>Avg. Abs. Equal odd difference</th>\n",
       "    </tr>\n",
       "  </thead>\n",
       "  <tbody>\n",
       "    <tr>\n",
       "      <th>0</th>\n",
       "      <td>Self balanced [augmented] White</td>\n",
       "      <td>0.49665</td>\n",
       "      <td>0.001488</td>\n",
       "      <td>0.479745</td>\n",
       "      <td>0.001393</td>\n",
       "      <td>0.741713</td>\n",
       "      <td>0.025550</td>\n",
       "      <td>0.025550</td>\n",
       "      <td>0.008517</td>\n",
       "    </tr>\n",
       "    <tr>\n",
       "      <th>1</th>\n",
       "      <td>Imbalanced White</td>\n",
       "      <td>0.48225</td>\n",
       "      <td>0.003424</td>\n",
       "      <td>0.470354</td>\n",
       "      <td>0.003705</td>\n",
       "      <td>0.672187</td>\n",
       "      <td>0.038109</td>\n",
       "      <td>0.040135</td>\n",
       "      <td>0.014188</td>\n",
       "    </tr>\n",
       "  </tbody>\n",
       "</table>\n",
       "</div>"
      ],
      "text/plain": [
       "                     experiment ID  accuracy  accuracy variance        f1  \\\n",
       "0  Self balanced [augmented] White   0.49665           0.001488  0.479745   \n",
       "1                 Imbalanced White   0.48225           0.003424  0.470354   \n",
       "\n",
       "   f1 variance  Avg. Abs. Disparate impact ratio  \\\n",
       "0     0.001393                          0.741713   \n",
       "1     0.003705                          0.672187   \n",
       "\n",
       "   Avg. Abs. Statistical parity difference  \\\n",
       "0                                 0.025550   \n",
       "1                                 0.038109   \n",
       "\n",
       "   Avg. Abs. Equal opportunity difference  Avg. Abs. Equal odd difference  \n",
       "0                                0.025550                        0.008517  \n",
       "1                                0.040135                        0.014188  "
      ]
     },
     "metadata": {},
     "output_type": "display_data"
    },
    {
     "name": "stdout",
     "output_type": "stream",
     "text": [
      "Server ready in 0.1600961685180664s\n",
      "Workers ready in 4.379806756973267s\n",
      "Workers registred in 0.06902670860290527s\n",
      "Training complete in 93.15035033226013s\n",
      "Server ready in 0.1531352996826172s\n",
      "Workers ready in 0.2712111473083496s\n",
      "Workers registred in 0.002027750015258789s\n",
      "Training complete in 48.042203426361084s\n",
      "Metrics evaluated in 271.07848501205444\n"
     ]
    },
    {
     "data": {
      "image/png": "[encoded data removed]",
      "text/plain": [
       "<Figure size 576x288 with 2 Axes>"
      ]
     },
     "metadata": {
      "image/png": {
       "height": 285,
       "width": 568
      },
      "needs_background": "light"
     },
     "output_type": "display_data"
    },
    {
     "data": {
      "image/png": "[encoded data removed]",
      "text/plain": [
       "<Figure size 576x288 with 2 Axes>"
      ]
     },
     "metadata": {
      "image/png": {
       "height": 285,
       "width": 568
      },
      "needs_background": "light"
     },
     "output_type": "display_data"
    },
    {
     "data": {
      "image/png": "[encoded data removed]",
      "text/plain": [
       "<Figure size 288x288 with 1 Axes>"
      ]
     },
     "metadata": {
      "image/png": {
       "height": 285,
       "width": 280
      },
      "needs_background": "light"
     },
     "output_type": "display_data"
    },
    {
     "name": "stdout",
     "output_type": "stream",
     "text": [
      "Samples: 20000, Epochs: 1, lr: 0.025, privileged proportion: 0.85%\n"
     ]
    },
    {
     "data": {
      "text/html": [
       "<div>\n",
       "<style scoped>\n",
       "    .dataframe tbody tr th:only-of-type {\n",
       "        vertical-align: middle;\n",
       "    }\n",
       "\n",
       "    .dataframe tbody tr th {\n",
       "        vertical-align: top;\n",
       "    }\n",
       "\n",
       "    .dataframe thead th {\n",
       "        text-align: right;\n",
       "    }\n",
       "</style>\n",
       "<table border=\"1\" class=\"dataframe\">\n",
       "  <thead>\n",
       "    <tr style=\"text-align: right;\">\n",
       "      <th></th>\n",
       "      <th>experiment ID</th>\n",
       "      <th>accuracy</th>\n",
       "      <th>accuracy variance</th>\n",
       "      <th>f1</th>\n",
       "      <th>f1 variance</th>\n",
       "      <th>Avg. Abs. Disparate impact ratio</th>\n",
       "      <th>Avg. Abs. Statistical parity difference</th>\n",
       "      <th>Avg. Abs. Equal opportunity difference</th>\n",
       "      <th>Avg. Abs. Equal odd difference</th>\n",
       "    </tr>\n",
       "  </thead>\n",
       "  <tbody>\n",
       "    <tr>\n",
       "      <th>0</th>\n",
       "      <td>Self balanced [augmented] Black</td>\n",
       "      <td>0.5052</td>\n",
       "      <td>0.001105</td>\n",
       "      <td>0.49366</td>\n",
       "      <td>0.001175</td>\n",
       "      <td>0.856924</td>\n",
       "      <td>0.048800</td>\n",
       "      <td>0.048800</td>\n",
       "      <td>0.016267</td>\n",
       "    </tr>\n",
       "    <tr>\n",
       "      <th>1</th>\n",
       "      <td>Imbalanced Black</td>\n",
       "      <td>0.4465</td>\n",
       "      <td>0.003146</td>\n",
       "      <td>0.42711</td>\n",
       "      <td>0.008086</td>\n",
       "      <td>0.648573</td>\n",
       "      <td>0.046195</td>\n",
       "      <td>0.058718</td>\n",
       "      <td>0.021133</td>\n",
       "    </tr>\n",
       "  </tbody>\n",
       "</table>\n",
       "</div>"
      ],
      "text/plain": [
       "                     experiment ID  accuracy  accuracy variance       f1  \\\n",
       "0  Self balanced [augmented] Black    0.5052           0.001105  0.49366   \n",
       "1                 Imbalanced Black    0.4465           0.003146  0.42711   \n",
       "\n",
       "   f1 variance  Avg. Abs. Disparate impact ratio  \\\n",
       "0     0.001175                          0.856924   \n",
       "1     0.008086                          0.648573   \n",
       "\n",
       "   Avg. Abs. Statistical parity difference  \\\n",
       "0                                 0.048800   \n",
       "1                                 0.046195   \n",
       "\n",
       "   Avg. Abs. Equal opportunity difference  Avg. Abs. Equal odd difference  \n",
       "0                                0.048800                        0.016267  \n",
       "1                                0.058718                        0.021133  "
      ]
     },
     "metadata": {},
     "output_type": "display_data"
    },
    {
     "name": "stdout",
     "output_type": "stream",
     "text": [
      "Server ready in 0.17830586433410645s\n",
      "Workers ready in 4.313121557235718s\n",
      "Workers registred in 0.09136343002319336s\n",
      "Training complete in 70.75603985786438s\n",
      "Server ready in 0.11594152450561523s\n",
      "Workers ready in 0.15360260009765625s\n",
      "Workers registred in 0.015571117401123047s\n",
      "Training complete in 41.892401933670044s\n",
      "Metrics evaluated in 179.54130792617798\n"
     ]
    },
    {
     "data": {
      "image/png": "[encoded data removed]",
      "text/plain": [
       "<Figure size 576x288 with 2 Axes>"
      ]
     },
     "metadata": {
      "image/png": {
       "height": 285,
       "width": 568
      },
      "needs_background": "light"
     },
     "output_type": "display_data"
    },
    {
     "data": {
      "image/png": "[encoded data removed]",
      "text/plain": [
       "<Figure size 576x288 with 2 Axes>"
      ]
     },
     "metadata": {
      "image/png": {
       "height": 285,
       "width": 568
      },
      "needs_background": "light"
     },
     "output_type": "display_data"
    },
    {
     "data": {
      "image/png": "[encoded data removed]",
      "text/plain": [
       "<Figure size 288x288 with 1 Axes>"
      ]
     },
     "metadata": {
      "image/png": {
       "height": 285,
       "width": 280
      },
      "needs_background": "light"
     },
     "output_type": "display_data"
    },
    {
     "name": "stdout",
     "output_type": "stream",
     "text": [
      "Samples: 20000, Epochs: 1, lr: 0.025, privileged proportion: 0.85%\n"
     ]
    },
    {
     "data": {
      "text/html": [
       "<div>\n",
       "<style scoped>\n",
       "    .dataframe tbody tr th:only-of-type {\n",
       "        vertical-align: middle;\n",
       "    }\n",
       "\n",
       "    .dataframe tbody tr th {\n",
       "        vertical-align: top;\n",
       "    }\n",
       "\n",
       "    .dataframe thead th {\n",
       "        text-align: right;\n",
       "    }\n",
       "</style>\n",
       "<table border=\"1\" class=\"dataframe\">\n",
       "  <thead>\n",
       "    <tr style=\"text-align: right;\">\n",
       "      <th></th>\n",
       "      <th>experiment ID</th>\n",
       "      <th>accuracy</th>\n",
       "      <th>accuracy variance</th>\n",
       "      <th>f1</th>\n",
       "      <th>f1 variance</th>\n",
       "      <th>Avg. Abs. Disparate impact ratio</th>\n",
       "      <th>Avg. Abs. Statistical parity difference</th>\n",
       "      <th>Avg. Abs. Equal opportunity difference</th>\n",
       "      <th>Avg. Abs. Equal odd difference</th>\n",
       "    </tr>\n",
       "  </thead>\n",
       "  <tbody>\n",
       "    <tr>\n",
       "      <th>0</th>\n",
       "      <td>Self balanced [augmented] Asian</td>\n",
       "      <td>0.48035</td>\n",
       "      <td>0.000887</td>\n",
       "      <td>0.459762</td>\n",
       "      <td>0.000884</td>\n",
       "      <td>0.715722</td>\n",
       "      <td>0.021650</td>\n",
       "      <td>0.021650</td>\n",
       "      <td>0.007217</td>\n",
       "    </tr>\n",
       "    <tr>\n",
       "      <th>1</th>\n",
       "      <td>Imbalanced Asian</td>\n",
       "      <td>0.55950</td>\n",
       "      <td>0.017120</td>\n",
       "      <td>0.544871</td>\n",
       "      <td>0.016862</td>\n",
       "      <td>0.569518</td>\n",
       "      <td>0.104629</td>\n",
       "      <td>0.112785</td>\n",
       "      <td>0.038945</td>\n",
       "    </tr>\n",
       "  </tbody>\n",
       "</table>\n",
       "</div>"
      ],
      "text/plain": [
       "                     experiment ID  accuracy  accuracy variance        f1  \\\n",
       "0  Self balanced [augmented] Asian   0.48035           0.000887  0.459762   \n",
       "1                 Imbalanced Asian   0.55950           0.017120  0.544871   \n",
       "\n",
       "   f1 variance  Avg. Abs. Disparate impact ratio  \\\n",
       "0     0.000884                          0.715722   \n",
       "1     0.016862                          0.569518   \n",
       "\n",
       "   Avg. Abs. Statistical parity difference  \\\n",
       "0                                 0.021650   \n",
       "1                                 0.104629   \n",
       "\n",
       "   Avg. Abs. Equal opportunity difference  Avg. Abs. Equal odd difference  \n",
       "0                                0.021650                        0.007217  \n",
       "1                                0.112785                        0.038945  "
      ]
     },
     "metadata": {},
     "output_type": "display_data"
    },
    {
     "name": "stdout",
     "output_type": "stream",
     "text": [
      "Server ready in 0.23177123069763184s\n",
      "Workers ready in 5.011920690536499s\n",
      "Workers registred in 0.10027909278869629s\n",
      "Training complete in 72.01487588882446s\n",
      "Server ready in 0.20529651641845703s\n",
      "Workers ready in 0.5541760921478271s\n",
      "Workers registred in 0.046874046325683594s\n",
      "Training complete in 54.99618148803711s\n",
      "Metrics evaluated in 228.2425651550293\n"
     ]
    },
    {
     "data": {
      "image/png": "[encoded data removed]",
      "text/plain": [
       "<Figure size 576x288 with 2 Axes>"
      ]
     },
     "metadata": {
      "image/png": {
       "height": 285,
       "width": 568
      },
      "needs_background": "light"
     },
     "output_type": "display_data"
    },
    {
     "data": {
      "image/png": "[encoded data removed]",
      "text/plain": [
       "<Figure size 576x288 with 2 Axes>"
      ]
     },
     "metadata": {
      "image/png": {
       "height": 285,
       "width": 568
      },
      "needs_background": "light"
     },
     "output_type": "display_data"
    },
    {
     "data": {
      "image/png": "[encoded data removed]",
      "text/plain": [
       "<Figure size 288x288 with 1 Axes>"
      ]
     },
     "metadata": {
      "image/png": {
       "height": 285,
       "width": 280
      },
      "needs_background": "light"
     },
     "output_type": "display_data"
    },
    {
     "name": "stdout",
     "output_type": "stream",
     "text": [
      "Samples: 20000, Epochs: 1, lr: 0.025, privileged proportion: 0.85%\n"
     ]
    },
    {
     "data": {
      "text/html": [
       "<div>\n",
       "<style scoped>\n",
       "    .dataframe tbody tr th:only-of-type {\n",
       "        vertical-align: middle;\n",
       "    }\n",
       "\n",
       "    .dataframe tbody tr th {\n",
       "        vertical-align: top;\n",
       "    }\n",
       "\n",
       "    .dataframe thead th {\n",
       "        text-align: right;\n",
       "    }\n",
       "</style>\n",
       "<table border=\"1\" class=\"dataframe\">\n",
       "  <thead>\n",
       "    <tr style=\"text-align: right;\">\n",
       "      <th></th>\n",
       "      <th>experiment ID</th>\n",
       "      <th>accuracy</th>\n",
       "      <th>accuracy variance</th>\n",
       "      <th>f1</th>\n",
       "      <th>f1 variance</th>\n",
       "      <th>Avg. Abs. Disparate impact ratio</th>\n",
       "      <th>Avg. Abs. Statistical parity difference</th>\n",
       "      <th>Avg. Abs. Equal opportunity difference</th>\n",
       "      <th>Avg. Abs. Equal odd difference</th>\n",
       "    </tr>\n",
       "  </thead>\n",
       "  <tbody>\n",
       "    <tr>\n",
       "      <th>0</th>\n",
       "      <td>Self balanced [augmented] Indian</td>\n",
       "      <td>0.4763</td>\n",
       "      <td>0.000800</td>\n",
       "      <td>0.446449</td>\n",
       "      <td>0.000584</td>\n",
       "      <td>0.746444</td>\n",
       "      <td>0.01940</td>\n",
       "      <td>0.019400</td>\n",
       "      <td>0.006467</td>\n",
       "    </tr>\n",
       "    <tr>\n",
       "      <th>1</th>\n",
       "      <td>Imbalanced Indian</td>\n",
       "      <td>0.5310</td>\n",
       "      <td>0.013994</td>\n",
       "      <td>0.529864</td>\n",
       "      <td>0.017434</td>\n",
       "      <td>0.590518</td>\n",
       "      <td>0.08736</td>\n",
       "      <td>0.097707</td>\n",
       "      <td>0.034402</td>\n",
       "    </tr>\n",
       "  </tbody>\n",
       "</table>\n",
       "</div>"
      ],
      "text/plain": [
       "                      experiment ID  accuracy  accuracy variance        f1  \\\n",
       "0  Self balanced [augmented] Indian    0.4763           0.000800  0.446449   \n",
       "1                 Imbalanced Indian    0.5310           0.013994  0.529864   \n",
       "\n",
       "   f1 variance  Avg. Abs. Disparate impact ratio  \\\n",
       "0     0.000584                          0.746444   \n",
       "1     0.017434                          0.590518   \n",
       "\n",
       "   Avg. Abs. Statistical parity difference  \\\n",
       "0                                  0.01940   \n",
       "1                                  0.08736   \n",
       "\n",
       "   Avg. Abs. Equal opportunity difference  Avg. Abs. Equal odd difference  \n",
       "0                                0.019400                        0.006467  \n",
       "1                                0.097707                        0.034402  "
      ]
     },
     "metadata": {},
     "output_type": "display_data"
    },
    {
     "data": {
      "application/javascript": [
       "$(document).ready(\n",
       "    function() {\n",
       "        function appendUniqueDiv(){\n",
       "            // append a div with our uuid so we can check that it's already\n",
       "            // been sent and avoid duplicates on page reload\n",
       "            var notifiedDiv = document.createElement(\"div\")\n",
       "            notifiedDiv.id = \"e2532dda-7a88-4b30-a630-0f61e5d63ca6\"\n",
       "            element.append(notifiedDiv)\n",
       "        }\n",
       "\n",
       "        // only send notifications if the pageload is complete; this will\n",
       "        // help stop extra notifications when a saved notebook is loaded,\n",
       "        // which during testing gives us state \"interactive\", not \"complete\"\n",
       "        if (document.readyState === 'complete') {\n",
       "            // check for the div that signifies that the notification\n",
       "            // was already sent\n",
       "            if (document.getElementById(\"e2532dda-7a88-4b30-a630-0f61e5d63ca6\") === null) {\n",
       "                var notificationPayload = {\"requireInteraction\": false, \"icon\": \"/static/base/images/favicon.ico\", \"body\": \"Cell execution has finished!\"};\n",
       "                if (Notification.permission !== 'denied') {\n",
       "                    if (Notification.permission !== 'granted') { \n",
       "                        Notification.requestPermission(function (permission) {\n",
       "                            if(!('permission' in Notification)) {\n",
       "                                Notification.permission = permission\n",
       "                            }\n",
       "                        })\n",
       "                    }\n",
       "                    if (Notification.permission === 'granted') {\n",
       "                    var notification = new Notification(\"Jupyter Notebook\", notificationPayload)\n",
       "                    appendUniqueDiv()\n",
       "                    notification.onclick = function () {\n",
       "                        window.focus();\n",
       "                        this.close();\n",
       "                        };\n",
       "                    } \n",
       "                }     \n",
       "            }\n",
       "        }\n",
       "    }\n",
       ")\n"
      ],
      "text/plain": [
       "<IPython.core.display.Javascript object>"
      ]
     },
     "metadata": {},
     "output_type": "display_data"
    }
   ],
   "source": [
    "%%notify\n",
    "results = []\n",
    "for i in range(len(p['ETHNICITIES'])):\n",
    "    r = train_compare_pair_balanced_umbalanced(\n",
    "            p['features'],\n",
    "            not_features,\n",
    "            df,\n",
    "            i, #numeric\n",
    "            gap=p['gap'],\n",
    "            max_gap=p['max_gap'],\n",
    "            privileged_group_proportion=p['privileged_group_proportion']\n",
    "        )\n",
    "    results += [r]\n",
    "    print(f'Samples: {p[\"data_samples\"]}, Epochs: {p[\"epochs_n\"]}, lr: {p[\"learning_rate\"]}, privileged proportion: {p[\"privileged_group_proportion\"]}%')\n",
    "    display(r)"
   ]
  },
  {
   "cell_type": "markdown",
   "id": "9f7b1d73",
   "metadata": {},
   "source": [
    "### Display results"
   ]
  },
  {
   "cell_type": "code",
   "execution_count": 32,
   "id": "1fdfda29",
   "metadata": {},
   "outputs": [
    {
     "name": "stdout",
     "output_type": "stream",
     "text": [
      "Samples: 20000, Epochs: 1, lr: 0.025, privileged proportion: 0.85%\n"
     ]
    },
    {
     "data": {
      "text/html": [
       "<div>\n",
       "<style scoped>\n",
       "    .dataframe tbody tr th:only-of-type {\n",
       "        vertical-align: middle;\n",
       "    }\n",
       "\n",
       "    .dataframe tbody tr th {\n",
       "        vertical-align: top;\n",
       "    }\n",
       "\n",
       "    .dataframe thead th {\n",
       "        text-align: right;\n",
       "    }\n",
       "</style>\n",
       "<table border=\"1\" class=\"dataframe\">\n",
       "  <thead>\n",
       "    <tr style=\"text-align: right;\">\n",
       "      <th></th>\n",
       "      <th>experiment ID</th>\n",
       "      <th>accuracy</th>\n",
       "      <th>accuracy variance</th>\n",
       "      <th>f1</th>\n",
       "      <th>f1 variance</th>\n",
       "      <th>Avg. Abs. Disparate impact ratio</th>\n",
       "      <th>Avg. Abs. Statistical parity difference</th>\n",
       "      <th>Avg. Abs. Equal opportunity difference</th>\n",
       "      <th>Avg. Abs. Equal odd difference</th>\n",
       "    </tr>\n",
       "  </thead>\n",
       "  <tbody>\n",
       "    <tr>\n",
       "      <th>0</th>\n",
       "      <td>Self balanced [augmented] White</td>\n",
       "      <td>0.49665</td>\n",
       "      <td>0.001488</td>\n",
       "      <td>0.479745</td>\n",
       "      <td>0.001393</td>\n",
       "      <td>0.741713</td>\n",
       "      <td>0.025550</td>\n",
       "      <td>0.025550</td>\n",
       "      <td>0.008517</td>\n",
       "    </tr>\n",
       "    <tr>\n",
       "      <th>1</th>\n",
       "      <td>Imbalanced White</td>\n",
       "      <td>0.48225</td>\n",
       "      <td>0.003424</td>\n",
       "      <td>0.470354</td>\n",
       "      <td>0.003705</td>\n",
       "      <td>0.672187</td>\n",
       "      <td>0.038109</td>\n",
       "      <td>0.040135</td>\n",
       "      <td>0.014188</td>\n",
       "    </tr>\n",
       "  </tbody>\n",
       "</table>\n",
       "</div>"
      ],
      "text/plain": [
       "                     experiment ID  accuracy  accuracy variance        f1  \\\n",
       "0  Self balanced [augmented] White   0.49665           0.001488  0.479745   \n",
       "1                 Imbalanced White   0.48225           0.003424  0.470354   \n",
       "\n",
       "   f1 variance  Avg. Abs. Disparate impact ratio  \\\n",
       "0     0.001393                          0.741713   \n",
       "1     0.003705                          0.672187   \n",
       "\n",
       "   Avg. Abs. Statistical parity difference  \\\n",
       "0                                 0.025550   \n",
       "1                                 0.038109   \n",
       "\n",
       "   Avg. Abs. Equal opportunity difference  Avg. Abs. Equal odd difference  \n",
       "0                                0.025550                        0.008517  \n",
       "1                                0.040135                        0.014188  "
      ]
     },
     "metadata": {},
     "output_type": "display_data"
    },
    {
     "data": {
      "text/html": [
       "<div>\n",
       "<style scoped>\n",
       "    .dataframe tbody tr th:only-of-type {\n",
       "        vertical-align: middle;\n",
       "    }\n",
       "\n",
       "    .dataframe tbody tr th {\n",
       "        vertical-align: top;\n",
       "    }\n",
       "\n",
       "    .dataframe thead th {\n",
       "        text-align: right;\n",
       "    }\n",
       "</style>\n",
       "<table border=\"1\" class=\"dataframe\">\n",
       "  <thead>\n",
       "    <tr style=\"text-align: right;\">\n",
       "      <th></th>\n",
       "      <th>experiment ID</th>\n",
       "      <th>accuracy</th>\n",
       "      <th>accuracy variance</th>\n",
       "      <th>f1</th>\n",
       "      <th>f1 variance</th>\n",
       "      <th>Avg. Abs. Disparate impact ratio</th>\n",
       "      <th>Avg. Abs. Statistical parity difference</th>\n",
       "      <th>Avg. Abs. Equal opportunity difference</th>\n",
       "      <th>Avg. Abs. Equal odd difference</th>\n",
       "    </tr>\n",
       "  </thead>\n",
       "  <tbody>\n",
       "    <tr>\n",
       "      <th>0</th>\n",
       "      <td>Self balanced [augmented] Black</td>\n",
       "      <td>0.5052</td>\n",
       "      <td>0.001105</td>\n",
       "      <td>0.49366</td>\n",
       "      <td>0.001175</td>\n",
       "      <td>0.856924</td>\n",
       "      <td>0.048800</td>\n",
       "      <td>0.048800</td>\n",
       "      <td>0.016267</td>\n",
       "    </tr>\n",
       "    <tr>\n",
       "      <th>1</th>\n",
       "      <td>Imbalanced Black</td>\n",
       "      <td>0.4465</td>\n",
       "      <td>0.003146</td>\n",
       "      <td>0.42711</td>\n",
       "      <td>0.008086</td>\n",
       "      <td>0.648573</td>\n",
       "      <td>0.046195</td>\n",
       "      <td>0.058718</td>\n",
       "      <td>0.021133</td>\n",
       "    </tr>\n",
       "  </tbody>\n",
       "</table>\n",
       "</div>"
      ],
      "text/plain": [
       "                     experiment ID  accuracy  accuracy variance       f1  \\\n",
       "0  Self balanced [augmented] Black    0.5052           0.001105  0.49366   \n",
       "1                 Imbalanced Black    0.4465           0.003146  0.42711   \n",
       "\n",
       "   f1 variance  Avg. Abs. Disparate impact ratio  \\\n",
       "0     0.001175                          0.856924   \n",
       "1     0.008086                          0.648573   \n",
       "\n",
       "   Avg. Abs. Statistical parity difference  \\\n",
       "0                                 0.048800   \n",
       "1                                 0.046195   \n",
       "\n",
       "   Avg. Abs. Equal opportunity difference  Avg. Abs. Equal odd difference  \n",
       "0                                0.048800                        0.016267  \n",
       "1                                0.058718                        0.021133  "
      ]
     },
     "metadata": {},
     "output_type": "display_data"
    },
    {
     "data": {
      "text/html": [
       "<div>\n",
       "<style scoped>\n",
       "    .dataframe tbody tr th:only-of-type {\n",
       "        vertical-align: middle;\n",
       "    }\n",
       "\n",
       "    .dataframe tbody tr th {\n",
       "        vertical-align: top;\n",
       "    }\n",
       "\n",
       "    .dataframe thead th {\n",
       "        text-align: right;\n",
       "    }\n",
       "</style>\n",
       "<table border=\"1\" class=\"dataframe\">\n",
       "  <thead>\n",
       "    <tr style=\"text-align: right;\">\n",
       "      <th></th>\n",
       "      <th>experiment ID</th>\n",
       "      <th>accuracy</th>\n",
       "      <th>accuracy variance</th>\n",
       "      <th>f1</th>\n",
       "      <th>f1 variance</th>\n",
       "      <th>Avg. Abs. Disparate impact ratio</th>\n",
       "      <th>Avg. Abs. Statistical parity difference</th>\n",
       "      <th>Avg. Abs. Equal opportunity difference</th>\n",
       "      <th>Avg. Abs. Equal odd difference</th>\n",
       "    </tr>\n",
       "  </thead>\n",
       "  <tbody>\n",
       "    <tr>\n",
       "      <th>0</th>\n",
       "      <td>Self balanced [augmented] Asian</td>\n",
       "      <td>0.48035</td>\n",
       "      <td>0.000887</td>\n",
       "      <td>0.459762</td>\n",
       "      <td>0.000884</td>\n",
       "      <td>0.715722</td>\n",
       "      <td>0.021650</td>\n",
       "      <td>0.021650</td>\n",
       "      <td>0.007217</td>\n",
       "    </tr>\n",
       "    <tr>\n",
       "      <th>1</th>\n",
       "      <td>Imbalanced Asian</td>\n",
       "      <td>0.55950</td>\n",
       "      <td>0.017120</td>\n",
       "      <td>0.544871</td>\n",
       "      <td>0.016862</td>\n",
       "      <td>0.569518</td>\n",
       "      <td>0.104629</td>\n",
       "      <td>0.112785</td>\n",
       "      <td>0.038945</td>\n",
       "    </tr>\n",
       "  </tbody>\n",
       "</table>\n",
       "</div>"
      ],
      "text/plain": [
       "                     experiment ID  accuracy  accuracy variance        f1  \\\n",
       "0  Self balanced [augmented] Asian   0.48035           0.000887  0.459762   \n",
       "1                 Imbalanced Asian   0.55950           0.017120  0.544871   \n",
       "\n",
       "   f1 variance  Avg. Abs. Disparate impact ratio  \\\n",
       "0     0.000884                          0.715722   \n",
       "1     0.016862                          0.569518   \n",
       "\n",
       "   Avg. Abs. Statistical parity difference  \\\n",
       "0                                 0.021650   \n",
       "1                                 0.104629   \n",
       "\n",
       "   Avg. Abs. Equal opportunity difference  Avg. Abs. Equal odd difference  \n",
       "0                                0.021650                        0.007217  \n",
       "1                                0.112785                        0.038945  "
      ]
     },
     "metadata": {},
     "output_type": "display_data"
    },
    {
     "data": {
      "text/html": [
       "<div>\n",
       "<style scoped>\n",
       "    .dataframe tbody tr th:only-of-type {\n",
       "        vertical-align: middle;\n",
       "    }\n",
       "\n",
       "    .dataframe tbody tr th {\n",
       "        vertical-align: top;\n",
       "    }\n",
       "\n",
       "    .dataframe thead th {\n",
       "        text-align: right;\n",
       "    }\n",
       "</style>\n",
       "<table border=\"1\" class=\"dataframe\">\n",
       "  <thead>\n",
       "    <tr style=\"text-align: right;\">\n",
       "      <th></th>\n",
       "      <th>experiment ID</th>\n",
       "      <th>accuracy</th>\n",
       "      <th>accuracy variance</th>\n",
       "      <th>f1</th>\n",
       "      <th>f1 variance</th>\n",
       "      <th>Avg. Abs. Disparate impact ratio</th>\n",
       "      <th>Avg. Abs. Statistical parity difference</th>\n",
       "      <th>Avg. Abs. Equal opportunity difference</th>\n",
       "      <th>Avg. Abs. Equal odd difference</th>\n",
       "    </tr>\n",
       "  </thead>\n",
       "  <tbody>\n",
       "    <tr>\n",
       "      <th>0</th>\n",
       "      <td>Self balanced [augmented] Indian</td>\n",
       "      <td>0.4763</td>\n",
       "      <td>0.000800</td>\n",
       "      <td>0.446449</td>\n",
       "      <td>0.000584</td>\n",
       "      <td>0.746444</td>\n",
       "      <td>0.01940</td>\n",
       "      <td>0.019400</td>\n",
       "      <td>0.006467</td>\n",
       "    </tr>\n",
       "    <tr>\n",
       "      <th>1</th>\n",
       "      <td>Imbalanced Indian</td>\n",
       "      <td>0.5310</td>\n",
       "      <td>0.013994</td>\n",
       "      <td>0.529864</td>\n",
       "      <td>0.017434</td>\n",
       "      <td>0.590518</td>\n",
       "      <td>0.08736</td>\n",
       "      <td>0.097707</td>\n",
       "      <td>0.034402</td>\n",
       "    </tr>\n",
       "  </tbody>\n",
       "</table>\n",
       "</div>"
      ],
      "text/plain": [
       "                      experiment ID  accuracy  accuracy variance        f1  \\\n",
       "0  Self balanced [augmented] Indian    0.4763           0.000800  0.446449   \n",
       "1                 Imbalanced Indian    0.5310           0.013994  0.529864   \n",
       "\n",
       "   f1 variance  Avg. Abs. Disparate impact ratio  \\\n",
       "0     0.000584                          0.746444   \n",
       "1     0.017434                          0.590518   \n",
       "\n",
       "   Avg. Abs. Statistical parity difference  \\\n",
       "0                                  0.01940   \n",
       "1                                  0.08736   \n",
       "\n",
       "   Avg. Abs. Equal opportunity difference  Avg. Abs. Equal odd difference  \n",
       "0                                0.019400                        0.006467  \n",
       "1                                0.097707                        0.034402  "
      ]
     },
     "metadata": {},
     "output_type": "display_data"
    }
   ],
   "source": [
    "print(f'Samples: {p[\"data_samples\"]}, Epochs: {p[\"epochs_n\"]}, lr: {p[\"learning_rate\"]}, privileged proportion: {p[\"privileged_group_proportion\"]}%')\n",
    "for r in results:\n",
    "    display(r)"
   ]
  },
  {
   "cell_type": "code",
   "execution_count": null,
   "id": "f71641e9",
   "metadata": {},
   "outputs": [],
   "source": []
  }
 ],
 "metadata": {
  "kernelspec": {
   "display_name": "Python 3 (ipykernel)",
   "language": "python",
   "name": "python3"
  },
  "language_info": {
   "codemirror_mode": {
    "name": "ipython",
    "version": 3
   },
   "file_extension": ".py",
   "mimetype": "text/x-python",
   "name": "python",
   "nbconvert_exporter": "python",
   "pygments_lexer": "ipython3",
   "version": "3.7.3"
  }
 },
 "nbformat": 4,
 "nbformat_minor": 5
}
