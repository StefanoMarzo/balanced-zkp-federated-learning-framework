{
 "cells": [
  {
   "cell_type": "markdown",
   "id": "c3f2c68e",
   "metadata": {},
   "source": [
    "### Imports & Settings"
   ]
  },
  {
   "cell_type": "code",
   "execution_count": 1,
   "id": "bc23df60",
   "metadata": {},
   "outputs": [],
   "source": [
    "from collections import Counter\n",
    "import time\n",
    "import numpy as np\n",
    "import nn_model as nn\n",
    "from utils import properties as p\n",
    "from utils import get_rnd_ethnicity\n",
    "import hashlib"
   ]
  },
  {
   "cell_type": "code",
   "execution_count": 2,
   "id": "1f3c811a",
   "metadata": {},
   "outputs": [],
   "source": [
    "from noknow.core import ZK, ZKSignature, ZKParameters, ZKData, ZKProof\n",
    "import copy"
   ]
  },
  {
   "cell_type": "markdown",
   "id": "83ca69a3",
   "metadata": {},
   "source": [
    "### Parameters"
   ]
  },
  {
   "cell_type": "code",
   "execution_count": 3,
   "id": "5ab0922c",
   "metadata": {},
   "outputs": [],
   "source": [
    "epochs_n = 1\n",
    "learning_rate = 0.1\n",
    "seed = 19101995\n",
    "\n",
    "features = {\n",
    "    'ETHNICITY': ['ASIAN', 'BLACK', 'INDIAN', 'WHITE'],\n",
    "    'GENDER': ['FEMALE', 'MALE']\n",
    "}\n",
    "\n",
    "not_features = {\n",
    "    'ETHNICITY': ['ROCK', 'PAPER', 'SCISSORS', 'UNCATEGORIZED'],\n",
    "    'GENDER': ['ZERO', 'ONE']\n",
    "}"
   ]
  },
  {
   "cell_type": "markdown",
   "id": "59d906dd",
   "metadata": {},
   "source": [
    "### ZKP Server"
   ]
  },
  {
   "cell_type": "code",
   "execution_count": 4,
   "id": "a8612c13",
   "metadata": {},
   "outputs": [],
   "source": [
    "class ZKServer:\n",
    "    def __init__(self, password, features):\n",
    "        self.password = password\n",
    "        self.features = features\n",
    "        self.client_representations = {}\n",
    "        self.tokens = {}\n",
    "        self.initialized_zk_features = False\n",
    "        for el in features:\n",
    "            self.client_representations[el] = []\n",
    "            self.tokens[el] = []\n",
    "        self.zk = ZK.new(curve_name=\"secp384r1\", hash_alg=\"sha3_512\")\n",
    "        self.signature: ZKSignature = self.zk.create_signature(password)\n",
    "            \n",
    "    def load_client_signature(self, signature):\n",
    "        #load client signature\n",
    "        client_signature = ZKSignature.load(signature)\n",
    "        return ZK(client_signature.params)\n",
    "    \n",
    "    def create_token(self, feature, signature):\n",
    "        #load client signature\n",
    "        client_signature = ZKSignature.load(signature)\n",
    "        client_zk = ZK(client_signature.params)\n",
    "        # Create a signed token and send to the client\n",
    "        token = self.zk.sign(self.password, client_zk.token()).dump(separator=\":\")\n",
    "        self.tokens[feature] += [token]\n",
    "        self.client_representations[feature] += [{'signature' : client_signature, 'zk' : client_zk}]\n",
    "        assert token in self.tokens[feature]\n",
    "        return token\n",
    "        \n",
    "    def verify_clients(self, feature, signature):\n",
    "        # Get the token from the client\n",
    "        proof = ZKData.load(signature)\n",
    "        token = ZKData.load(proof.data, \":\")\n",
    "        \n",
    "        proofs = []\n",
    "        # In this example, the server signs the token so it can be sure it has not been modified\n",
    "        for label in self.client_representations[feature]:\n",
    "            client_signature = label['signature']\n",
    "            client_zk = label['zk']\n",
    "            proofs += [self.verify_client(proof, token, client_signature, client_zk)]\n",
    "            \n",
    "        return sum(proofs) >= 1\n",
    "    \n",
    "    def verify_client(self, proof, token, client_signature, client_zk):\n",
    "        return self.zk.verify(token, self.signature) and \\\n",
    "                client_zk.verify(proof, client_signature, data=token)\n",
    "    \n",
    "    def verify(self, feature, signatures):\n",
    "        return sum([self.verify_clients(feature, s) for s in signatures]) >= 1\n",
    "    \n",
    "    def init_zk(self, clients):\n",
    "        if self.initialized_zk_features:\n",
    "            print('Server already initialized')\n",
    "            return\n",
    "        for c in clients:\n",
    "            self.create_token(c.feature, c.signature)\n",
    "        #print('Server initialized with ' + str(len(clients)) + ' features')\n",
    "        self.initialized_zk_features = True"
   ]
  },
  {
   "cell_type": "markdown",
   "id": "8edcc6e9",
   "metadata": {},
   "source": [
    "### ZKP Client"
   ]
  },
  {
   "cell_type": "code",
   "execution_count": 5,
   "id": "8791f3ca",
   "metadata": {},
   "outputs": [],
   "source": [
    "class ZKClient:\n",
    "    def __init__(self, feature, label):\n",
    "        self.zk = ZK.new(curve_name=\"secp256k1\", hash_alg=\"sha3_256\")\n",
    "        self.label = label\n",
    "        self.feature = feature\n",
    "        # Create signature and send to server\n",
    "        self.signature = self.zk.create_signature(label).dump()\n",
    "        \n",
    "    def set_label(self, label):\n",
    "        self.label = label\n",
    "        self.signature = self.zk.create_signature(label).dump()\n",
    "            \n",
    "    def create_proof(self, server_token):\n",
    "        # Create a proof that signs the provided token and sends to server\n",
    "        proof = self.zk.sign(self.label, server_token).dump()\n",
    "        return proof\n",
    "    \n",
    "    def create_proofs(self, server_tokens):\n",
    "        return [self.create_proof(t) for t in server_tokens]"
   ]
  },
  {
   "cell_type": "markdown",
   "id": "f0c32506",
   "metadata": {},
   "source": [
    "### Server Initializer"
   ]
  },
  {
   "cell_type": "code",
   "execution_count": 6,
   "id": "60cce45e",
   "metadata": {},
   "outputs": [],
   "source": [
    "class ServerInitializer:\n",
    "    def __init__(self, features, client_prototype):\n",
    "        self.client_prototype = client_prototype\n",
    "        self.features = features\n",
    "        \n",
    "    def create_clients(self):\n",
    "        clients = []\n",
    "        for feature in self.features:\n",
    "            for label in self.features[feature]:\n",
    "                client = copy.copy(self.client_prototype)\n",
    "                client.feature = feature\n",
    "                client.set_label(label)\n",
    "                clients += [client]\n",
    "        return clients"
   ]
  },
  {
   "cell_type": "markdown",
   "id": "8d32159c",
   "metadata": {},
   "source": [
    "### Client Initializer"
   ]
  },
  {
   "cell_type": "code",
   "execution_count": 7,
   "id": "fd047499",
   "metadata": {},
   "outputs": [],
   "source": [
    "class ClientInitializer:\n",
    "    def __init__(self):\n",
    "        self.generated = False\n",
    "    def generate_client_prototype():\n",
    "        if not self.generated:\n",
    "            self.generated = True\n",
    "            return ZKInitClient('', '')"
   ]
  },
  {
   "cell_type": "markdown",
   "id": "3eaa8809",
   "metadata": {},
   "source": [
    "### Model classes"
   ]
  },
  {
   "cell_type": "code",
   "execution_count": 8,
   "id": "a28b8281",
   "metadata": {},
   "outputs": [],
   "source": [
    "#Server \n",
    "class FairServer(ZKServer):\n",
    "    def __init__(self, model):\n",
    "        self.model = LearningModel(model)\n",
    "        self.workers = []\n",
    "        self.groups = Counter()\n",
    "        \n",
    "    def register_worker(self, worker):\n",
    "        self.workers += [worker]\n",
    "        \n",
    "    def register_feature_group(self, group):\n",
    "        self.groups.update({group : 1})\n",
    "\n",
    "    def send_model(self, worker):\n",
    "        worker.load_model(self.model)\n",
    "        \n",
    "    def load_weights(self, W):\n",
    "        self.model.set_weights(W)\n",
    "        \n",
    "    def request_training(self, w):\n",
    "        w.train()\n",
    "    \n",
    "    def train(self):\n",
    "        for w in self.workers:\n",
    "            self.send_model(w)\n",
    "            self.request_training(w)\n",
    "            \n",
    "    def fair_metrics(self):\n",
    "        return 'Fair metrics: '\n",
    "    \n",
    "    def predict(self, x):\n",
    "        return self.model.predict(x)"
   ]
  },
  {
   "cell_type": "code",
   "execution_count": 9,
   "id": "c8152a14",
   "metadata": {},
   "outputs": [],
   "source": [
    "#Worker \n",
    "class Worker(ZKClient):\n",
    "    def __init__(self, server, x, y, secret_feature):\n",
    "        self.server = server\n",
    "        self.model = {}\n",
    "        self.x = x\n",
    "        self.y = y\n",
    "        self.secret_feature = secret_feature\n",
    "        \n",
    "    def send_registration(self):\n",
    "        self.server.register_worker(self)\n",
    "        \n",
    "    def send_feature_group(self):\n",
    "        secret = hashlib.sha256()\n",
    "        secret.update(self.secret_feature.encode('utf-8'))\n",
    "        self.server.register_feature_group(secret.hexdigest())\n",
    "        \n",
    "    def load_model(self, model):\n",
    "        self.model = model\n",
    "        \n",
    "    def send_weights(self, W):\n",
    "        self.server.load_weights(W)\n",
    "        \n",
    "    def train(self):\n",
    "        self.model.train(self.x, self.y)\n",
    "        self.send_weights(self.model.get_weights())\n",
    "        self.send_feature_group()"
   ]
  },
  {
   "cell_type": "code",
   "execution_count": 10,
   "id": "fde08773",
   "metadata": {},
   "outputs": [],
   "source": [
    "class LearningModel:\n",
    "    def __init__(self, model, epochs=epochs_n, learning_rate=learning_rate):\n",
    "        self.model = model\n",
    "        self.epochs = epochs\n",
    "        self.learning_rate = learning_rate\n",
    "    \n",
    "    def set_weights(self, W):\n",
    "        self.model.load_weights(W)\n",
    "        \n",
    "    def get_weights(self):\n",
    "        return self.model.get_weights()\n",
    "    \n",
    "    def train(self, X, y):\n",
    "        self.model.fit(X, y, self.epochs, self.learning_rate)\n",
    "    \n",
    "    def predict(self, x):\n",
    "        return self.model.predict(x)"
   ]
  },
  {
   "cell_type": "markdown",
   "id": "6e9bc70d",
   "metadata": {},
   "source": [
    "### ZKP-FED-Framework"
   ]
  },
  {
   "cell_type": "code",
   "execution_count": 11,
   "id": "1c27d674",
   "metadata": {},
   "outputs": [],
   "source": [
    "class ZKPFEDFramework:\n",
    "    def __init__(self, features, not_features, data=[]):\n",
    "        self.client_prototype = ClientInitializer().generate_client_prototype()\n",
    "        self.features = features\n",
    "        self.not_features = not_features #TESTING\n",
    "        self.server = ZKServer('password', features)\n",
    "        self.server_initializer = ServerInitializer(features, self.client_prototype)\n",
    "        self.server.init_zk(self.server_initializer.create_clients())\n",
    "        self.test_server()\n",
    "        \n",
    "    def test_server(self):\n",
    "        #Create a mock server initializer with actual features\n",
    "        si_f = ServerInitializer(self.features, self.client_prototype)\n",
    "        \n",
    "        #Create a mock server initializer with unauthorized features (not_features)\n",
    "        si_n = ServerInitializer(self.not_features, self.client_prototype)\n",
    "        \n",
    "        #Create a mock server\n",
    "        server = ZKServer('password', features)\n",
    "        \n",
    "        #Register authrized clients in the mock server\n",
    "        server.init_zk(si_f.create_clients())\n",
    "        \n",
    "        #Create proofs for authorized users\n",
    "        mock_clients_f = si_f.create_clients()\n",
    "        proofs_f = [server.verify(c.feature, c.create_proofs(server.tokens[c.feature])) \n",
    "                  for c \n",
    "                  in mock_clients_f]\n",
    "        \n",
    "        #Create proofs for unauthorized users\n",
    "        mock_clients_n = si_n.create_clients()\n",
    "        proofs_n = [server.verify_clients(c.feature, c.create_proof(server.tokens[c.feature][0])) \n",
    "                  for c \n",
    "                  in mock_clients_n]\n",
    "        \n",
    "        #Assert that all the registered clients get access to the server\n",
    "        assert sum(proofs_f) == len(mock_clients_f)\n",
    "        \n",
    "        #Assert that none of the non-registered clients get access to the server\n",
    "        assert sum(proofs_n) == 0"
   ]
  },
  {
   "cell_type": "markdown",
   "id": "43f954f9",
   "metadata": {},
   "source": [
    "### Utils functions"
   ]
  },
  {
   "cell_type": "code",
   "execution_count": 12,
   "id": "9bebf58f",
   "metadata": {},
   "outputs": [],
   "source": [
    "#Create a server\n",
    "def create_server(model):\n",
    "    return FairServer(model)\n",
    "\n",
    "#Create workers\n",
    "def create_workers(server, X, y, secret_feature):\n",
    "    return[Worker(server, X[i], y[i], secret_feature[i]) for i in range(len(X))]\n",
    "\n",
    "#Register all workers\n",
    "def register_workers(workers):\n",
    "    for worker in workers:\n",
    "        worker.send_registration()\n",
    "        \n",
    "def start_training(server):\n",
    "    start_train = time.time()\n",
    "    server.train()\n",
    "    end_train = time.time()\n",
    "    #print('Training time:' + str(end_train - start_train))\n",
    "    \n",
    "def znp_fed_training(model, X, y, secret):\n",
    "    s = create_server(model)\n",
    "    ws = create_workers(s, X, y, secret)\n",
    "    register_workers(ws)\n",
    "    start_training(s)\n",
    "    #print(s.fair_metrics())\n",
    "    return s, ws"
   ]
  },
  {
   "cell_type": "markdown",
   "id": "a35a7776",
   "metadata": {},
   "source": [
    "### Model for reference"
   ]
  },
  {
   "cell_type": "code",
   "execution_count": 13,
   "id": "d509354a",
   "metadata": {},
   "outputs": [],
   "source": [
    "# network (not federated)\n",
    "net = nn.get_3l_nn(2, 2, 1)\n",
    "\n",
    "X = np.array([[[[0, 0]]], [[[0, 1]]], [[[1, 0]]], [[[1, 1]]]])\n",
    "y = np.array([[[[0]]], [[[1]]], [[[1]]], [[[0]]]])\n",
    "\n",
    "#train\n",
    "for i in range(len(X)):\n",
    "    net.fit(X[i], y[i], epochs=epochs_n, learning_rate=learning_rate)\n",
    "\n",
    "# test\n",
    "out = net.predict(X)"
   ]
  },
  {
   "cell_type": "markdown",
   "id": "620b319b",
   "metadata": {},
   "source": [
    "### Model for Fed-Learning"
   ]
  },
  {
   "cell_type": "code",
   "execution_count": 14,
   "id": "b12deb8e",
   "metadata": {},
   "outputs": [],
   "source": [
    "# network (for federated learning)\n",
    "net2 = nn.get_3l_nn(2, 2, 1)\n",
    "\n",
    "#train\n",
    "s, ws = znp_fed_training(net2, X, y, [get_rnd_ethnicity() for i in range(len(X))])\n",
    "\n",
    "#test\n",
    "out2 = s.predict(X)"
   ]
  },
  {
   "cell_type": "markdown",
   "id": "ba23383c",
   "metadata": {},
   "source": [
    "### Test if the 2 models behave in the same way"
   ]
  },
  {
   "cell_type": "code",
   "execution_count": 15,
   "id": "ae0c1847",
   "metadata": {},
   "outputs": [
    {
     "data": {
      "text/plain": [
       "True"
      ]
     },
     "execution_count": 15,
     "metadata": {},
     "output_type": "execute_result"
    }
   ],
   "source": [
    "np.array_equal(out, out2)"
   ]
  },
  {
   "cell_type": "markdown",
   "id": "45dfa0f5",
   "metadata": {},
   "source": [
    "### Test if workers retain feature [ethnicity]"
   ]
  },
  {
   "cell_type": "code",
   "execution_count": 16,
   "id": "6d2e27bf",
   "metadata": {},
   "outputs": [],
   "source": [
    "def encode_sha256(s):\n",
    "    secret = hashlib.sha256()\n",
    "    secret.update(s.encode('utf-8'))\n",
    "    return secret.hexdigest()"
   ]
  },
  {
   "cell_type": "code",
   "execution_count": 17,
   "id": "1fc9220d",
   "metadata": {},
   "outputs": [
    {
     "data": {
      "text/plain": [
       "True"
      ]
     },
     "execution_count": 17,
     "metadata": {},
     "output_type": "execute_result"
    }
   ],
   "source": [
    "w_groups = [w.secret_feature for w in ws] \n",
    "h_groups = [encode_sha256(s) for s in w_groups]\n",
    "cnt = Counter()\n",
    "for h in h_groups:\n",
    "    cnt.update({h : 1})\n",
    "    \n",
    "#check if the two counters are equal\n",
    "#w_groups, s.groups, cnt\n",
    "#Intersection\n",
    "s.groups & cnt == s.groups == cnt"
   ]
  }
 ],
 "metadata": {
  "kernelspec": {
   "display_name": "Python 3 (ipykernel)",
   "language": "python",
   "name": "python3"
  },
  "language_info": {
   "codemirror_mode": {
    "name": "ipython",
    "version": 3
   },
   "file_extension": ".py",
   "mimetype": "text/x-python",
   "name": "python",
   "nbconvert_exporter": "python",
   "pygments_lexer": "ipython3",
   "version": "3.7.3"
  }
 },
 "nbformat": 4,
 "nbformat_minor": 5
}
