{
 "cells": [
  {
   "cell_type": "code",
   "execution_count": 1,
   "id": "ab7bc154",
   "metadata": {},
   "outputs": [
    {
     "name": "stdout",
     "output_type": "stream",
     "text": [
      "Enter Password: ········\n",
      "Enter Password Again: ········\n",
      "Success!\n"
     ]
    }
   ],
   "source": [
    "\"\"\"\n",
    "Extremely simple example of NoKnow ZK Proof implementation\n",
    "\"\"\"\n",
    "from getpass import getpass\n",
    "from noknow.core import ZK, ZKSignature, ZKParameters, ZKData, ZKProof\n",
    "from queue import Queue\n",
    "from threading import Thread\n",
    "\n",
    "\n",
    "def client(iq: Queue, oq: Queue):\n",
    "    client_zk = ZK.new(curve_name=\"secp256k1\", hash_alg=\"sha3_256\")\n",
    "\n",
    "    # Create signature and send to server\n",
    "    signature = client_zk.create_signature(getpass(\"Enter Password: \"))\n",
    "    oq.put(signature.dump())\n",
    "\n",
    "    # Receive the token from the server\n",
    "    token = iq.get()\n",
    "\n",
    "    # Create a proof that signs the provided token and sends to server\n",
    "    proof = client_zk.sign(getpass(\"Enter Password Again: \"), token).dump()\n",
    "\n",
    "    # Send the token and proof to the server\n",
    "    oq.put(proof)\n",
    "\n",
    "    # Wait for server response!\n",
    "    print(\"Success!\" if iq.get() else \"Failure!\")\n",
    "\n",
    "\n",
    "def server(iq: Queue, oq: Queue):\n",
    "    # Set up server component\n",
    "    server_password = \"SecretServerPassword\"\n",
    "    server_zk = ZK.new(curve_name=\"secp384r1\", hash_alg=\"sha3_512\")\n",
    "    server_signature: ZKSignature = server_zk.create_signature(\"SecureServerPassword\")\n",
    "\n",
    "    # Load the received signature from the Client\n",
    "    sig = iq.get()\n",
    "    client_signature = ZKSignature.load(sig)\n",
    "    client_zk = ZK(client_signature.params)\n",
    "\n",
    "    # Create a signed token and send to the client\n",
    "    token = server_zk.sign(\"SecureServerPassword\", client_zk.token())\n",
    "    oq.put(token.dump(separator=\":\"))\n",
    "\n",
    "    # Get the token from the client\n",
    "    proof = ZKData.load(iq.get())\n",
    "    token = ZKData.load(proof.data, \":\")\n",
    "\n",
    "    # In this example, the server signs the token so it can be sure it has not been modified\n",
    "    if not server_zk.verify(token, server_signature):\n",
    "        oq.put(False)\n",
    "    else:\n",
    "        oq.put(client_zk.verify(proof, client_signature, data=token))\n",
    "\n",
    "\n",
    "def main():\n",
    "    q1, q2 = Queue(), Queue()\n",
    "    threads = [\n",
    "        Thread(target=client, args=(q1, q2)),\n",
    "        Thread(target=server, args=(q2, q1)),\n",
    "    ]\n",
    "    for func in [Thread.start, Thread.join]:\n",
    "        for thread in threads:\n",
    "            func(thread)\n",
    "\n",
    "\n",
    "if __name__ == \"__main__\":\n",
    "    main()"
   ]
  },
  {
   "cell_type": "code",
   "execution_count": 2,
   "id": "2475f8b0",
   "metadata": {},
   "outputs": [
    {
     "name": "stdout",
     "output_type": "stream",
     "text": [
      "True\n"
     ]
    }
   ],
   "source": [
    "#CLIENT\n",
    "client_zk = ZK.new(curve_name=\"secp256k1\", hash_alg=\"sha3_256\")\n",
    "# Create signature and send to server\n",
    "signature = client_zk.create_signature('password')\n",
    "to_send = signature.dump()\n",
    "\n",
    "#SERVER\n",
    "server_password = \"SecretServerPassword\"\n",
    "server_zk = ZK.new(curve_name=\"secp384r1\", hash_alg=\"sha3_512\")\n",
    "server_signature: ZKSignature = server_zk.create_signature(server_password)\n",
    "client_signature = ZKSignature.load(to_send)\n",
    "s_client_zk = ZK(client_signature.params)\n",
    "# Create a signed token and send to the client\n",
    "token = server_zk.sign(server_password, client_zk.token())\n",
    "token_to_send = token.dump(separator=':')\n",
    "\n",
    "#CLIENT\n",
    "# Create a proof that signs the provided token and sends to server\n",
    "proof = client_zk.sign('password', token_to_send).dump()\n",
    "\n",
    "#SERVER\n",
    "server_proof = ZKData.load(proof)\n",
    "token = ZKData.load(server_proof.data, \":\")\n",
    "if not server_zk.verify(token, server_signature):\n",
    "    print('not verified')\n",
    "else:\n",
    "    print(client_zk.verify(server_proof, client_signature, data=token))"
   ]
  },
  {
   "cell_type": "code",
   "execution_count": 3,
   "id": "554c81aa",
   "metadata": {},
   "outputs": [
    {
     "data": {
      "text/plain": [
       "ZKParameters(alg='sha3_256', curve='secp256k1', s=109718906672821653876829719354325460686566303460627215434138475807790250440456)"
      ]
     },
     "execution_count": 3,
     "metadata": {},
     "output_type": "execute_result"
    }
   ],
   "source": [
    "client_signature.params"
   ]
  },
  {
   "cell_type": "code",
   "execution_count": 4,
   "id": "a5caafa1",
   "metadata": {},
   "outputs": [
    {
     "data": {
      "text/plain": [
       "ZKParameters(alg='sha3_256', curve='secp256k1', s=109718906672821653876829719354325460686566303460627215434138475807790250440456)"
      ]
     },
     "execution_count": 4,
     "metadata": {},
     "output_type": "execute_result"
    }
   ],
   "source": [
    "client_zk.params"
   ]
  },
  {
   "cell_type": "code",
   "execution_count": null,
   "id": "f5ecd2a2",
   "metadata": {},
   "outputs": [],
   "source": []
  }
 ],
 "metadata": {
  "kernelspec": {
   "display_name": "Python 3 (ipykernel)",
   "language": "python",
   "name": "python3"
  },
  "language_info": {
   "codemirror_mode": {
    "name": "ipython",
    "version": 3
   },
   "file_extension": ".py",
   "mimetype": "text/x-python",
   "name": "python",
   "nbconvert_exporter": "python",
   "pygments_lexer": "ipython3",
   "version": "3.7.3"
  }
 },
 "nbformat": 4,
 "nbformat_minor": 5
}
