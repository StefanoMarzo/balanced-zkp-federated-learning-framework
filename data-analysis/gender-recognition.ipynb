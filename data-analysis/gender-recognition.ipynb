{
 "cells": [
  {
   "cell_type": "markdown",
   "id": "d924c2af",
   "metadata": {},
   "source": [
    "### Imports and config"
   ]
  },
  {
   "cell_type": "code",
   "execution_count": 1,
   "id": "69f538d8",
   "metadata": {},
   "outputs": [],
   "source": [
    "import pandas as pd\n",
    "from PIL import Image\n",
    "import matplotlib.pyplot as plt\n",
    "from sklearn.model_selection import train_test_split\n",
    "import tensorflow as tf\n",
    "import numpy as np\n",
    "from tensorflow.keras.preprocessing.image import ImageDataGenerator\n",
    "from tensorflow.keras.callbacks import EarlyStopping, ReduceLROnPlateau\n",
    "from tensorflow.keras.models import Sequential\n",
    "from tensorflow.keras.layers import Dense, Flatten, MaxPooling2D, Conv2D\n",
    "from sklearn.metrics import confusion_matrix\n",
    "from sklearn.metrics import f1_score\n",
    "\n",
    "%config InlineBackend.figure_format='retina'"
   ]
  },
  {
   "cell_type": "markdown",
   "id": "c4791142",
   "metadata": {},
   "source": [
    "### Read data"
   ]
  },
  {
   "cell_type": "code",
   "execution_count": 2,
   "id": "17e129e5",
   "metadata": {},
   "outputs": [],
   "source": [
    "df = pd.read_csv('../dataset/data.csv')"
   ]
  },
  {
   "cell_type": "markdown",
   "id": "3c20ca4e",
   "metadata": {},
   "source": [
    "### Constants"
   ]
  },
  {
   "cell_type": "code",
   "execution_count": 3,
   "id": "a8aeb8a7",
   "metadata": {},
   "outputs": [],
   "source": [
    "# Ethnicity labels\n",
    "ETHNICITIES = { \n",
    "    0: 'White', \n",
    "    1: 'Black',\n",
    "    2: 'Asian',\n",
    "    3: 'Indian',\n",
    "    4: 'Other'\n",
    "}\n",
    "\n",
    "# Gender labels\n",
    "GENDERS = { \n",
    "    0: 'Male', \n",
    "    1: 'Female'\n",
    "}\n",
    "\n",
    "REVERSE_GENDERS = {\n",
    "    'Male' : 0,\n",
    "    'Female' : 1\n",
    "}\n",
    "\n",
    "#Image size\n",
    "img_size = 48"
   ]
  },
  {
   "cell_type": "markdown",
   "id": "a5b70506",
   "metadata": {},
   "source": [
    "### Utils"
   ]
  },
  {
   "cell_type": "code",
   "execution_count": 4,
   "id": "c524b481",
   "metadata": {},
   "outputs": [],
   "source": [
    "def render_row(row):\n",
    "    pixels = bytearray([int(px) for px in row['pixels'].split(' ')])\n",
    "    img = Image.frombytes('L', (img_size, img_size), bytes(pixels))\n",
    "    fig, axes = plt.subplots(nrows=1, ncols=1, figsize=(2, 2), dpi=100)\n",
    "    axes.axis('off')\n",
    "    imgplot = plt.imshow(img, cmap='gray')\n",
    "    x_offset_text = 52\n",
    "    plt.text(x_offset_text, 5, 'Age: ' + str(row['age']))\n",
    "    plt.text(x_offset_text, 12, 'Ethnicity: ' + ETHNICITIES[row['ethnicity']])\n",
    "    plt.text(x_offset_text, 19, 'Gender: ' + GENDERS[row['gender']])\n",
    "    plt.show()\n",
    "#render_row(df.loc[0])"
   ]
  },
  {
   "cell_type": "markdown",
   "id": "740987e5",
   "metadata": {},
   "source": [
    "### Create balanced dataset"
   ]
  },
  {
   "cell_type": "code",
   "execution_count": 5,
   "id": "330dfba0",
   "metadata": {},
   "outputs": [],
   "source": [
    "df['ethnicity'] = df['ethnicity'].map(ETHNICITIES)\n",
    "df['gender'] = df['gender'].map(GENDERS)"
   ]
  },
  {
   "cell_type": "code",
   "execution_count": 6,
   "id": "481b5ab2",
   "metadata": {},
   "outputs": [],
   "source": [
    "#Ethnicity sample size\n",
    "ethnicity_gender_sample_size = 100\n",
    "age_filter = (df['age'] >= 30) & (df['age'] <= 50)\n",
    "\n",
    "def ethnicity_gender_filter(df, i, j):\n",
    "    return (df['ethnicity'] == ETHNICITIES[i]) & (df['gender'] == GENDERS[j])\n",
    "\n",
    "df_age_filter = df[age_filter][['age', 'ethnicity', 'gender', 'pixels']]\n",
    "\n",
    "balanced_df = pd.concat([\n",
    "    df_age_filter.loc[ethnicity_gender_filter(df_age_filter, i, j)]\\\n",
    "        .sample(ethnicity_gender_sample_size, random_state=19)\n",
    "    for i in range(len(ETHNICITIES))\n",
    "    for j in range(len(GENDERS))\n",
    "])"
   ]
  },
  {
   "cell_type": "code",
   "execution_count": 7,
   "id": "a57de371",
   "metadata": {},
   "outputs": [],
   "source": [
    "def print_summary(dataset):\n",
    "    n_bins = 10\n",
    "    fig, axs = plt.subplots(1, 3, sharey=True, tight_layout=True, figsize=(12, 3))\n",
    "    axs[0].title.set_text('Age')\n",
    "    axs[0].hist(dataset['age'], bins=n_bins)\n",
    "    axs[1].title.set_text('Ethnicity')\n",
    "    axs[1].hist(dataset['ethnicity'], bins=5*2-1)\n",
    "    axs[2].title.set_text('Gender')\n",
    "    axs[2].hist(dataset['gender'], bins=2*2-1)\n",
    "    print(f'Number of records: {len(dataset)}')"
   ]
  },
  {
   "cell_type": "code",
   "execution_count": 8,
   "id": "2d3fa262",
   "metadata": {},
   "outputs": [
    {
     "name": "stdout",
     "output_type": "stream",
     "text": [
      "Number of records: 1000\n"
     ]
    },
    {
     "data": {
      "image/png": "[encoded data removed]",
      "text/plain": [
       "<Figure size 864x216 with 3 Axes>"
      ]
     },
     "metadata": {
      "image/png": {
       "height": 208,
       "width": 854
      },
      "needs_background": "light"
     },
     "output_type": "display_data"
    }
   ],
   "source": [
    "print_summary(balanced_df)"
   ]
  },
  {
   "cell_type": "markdown",
   "id": "8e83e3da",
   "metadata": {},
   "source": [
    "### Create Train - Test"
   ]
  },
  {
   "cell_type": "code",
   "execution_count": 9,
   "id": "d50ff620",
   "metadata": {},
   "outputs": [],
   "source": [
    "balanced_df['pixels'] = balanced_df['pixels']\\\n",
    "        .apply(lambda x: np.array(x.split(), dtype='float32'))"
   ]
  },
  {
   "cell_type": "code",
   "execution_count": 10,
   "id": "be47655c",
   "metadata": {},
   "outputs": [],
   "source": [
    "X = np.array(balanced_df['pixels'].tolist())\n",
    "X = np.reshape(X, (-1, 48, 48, 1))\n",
    "y = balanced_df['gender'].map(REVERSE_GENDERS)\n",
    "X_train, X_test, y_train, y_test = train_test_split(X, y, test_size=0.2, random_state=19)"
   ]
  },
  {
   "cell_type": "markdown",
   "id": "7a2a15ce",
   "metadata": {},
   "source": [
    "## Tensorflow"
   ]
  },
  {
   "cell_type": "markdown",
   "id": "e5d95bba",
   "metadata": {},
   "source": [
    "### Generate ANN input"
   ]
  },
  {
   "cell_type": "code",
   "execution_count": 11,
   "id": "67577abb",
   "metadata": {},
   "outputs": [],
   "source": [
    "train_datagen=ImageDataGenerator(rescale=1/255)\n",
    "test_datagen=ImageDataGenerator(rescale=1/255)\n",
    "\n",
    "train_generator_gender = train_datagen.flow(\n",
    "    X_train, y_train, batch_size=32\n",
    ")\n",
    "\n",
    "test_generator_gender = test_datagen.flow(\n",
    "    X_test, y_test, batch_size=32\n",
    ")"
   ]
  },
  {
   "cell_type": "markdown",
   "id": "73aada70",
   "metadata": {},
   "source": [
    "### Set stop condition"
   ]
  },
  {
   "cell_type": "code",
   "execution_count": 12,
   "id": "702e78f0",
   "metadata": {},
   "outputs": [],
   "source": [
    "earlystop = EarlyStopping(patience=6)\n",
    "learning_rate_reduction=ReduceLROnPlateau(\n",
    "    patience= 3,\n",
    "    verbose=1,\n",
    ")\n",
    "callbacks = [earlystop, learning_rate_reduction]"
   ]
  },
  {
   "cell_type": "markdown",
   "id": "5f2f08b6",
   "metadata": {},
   "source": [
    "### Model"
   ]
  },
  {
   "cell_type": "code",
   "execution_count": 13,
   "id": "73863879",
   "metadata": {},
   "outputs": [
    {
     "name": "stdout",
     "output_type": "stream",
     "text": [
      "Model: \"sequential\"\n",
      "_________________________________________________________________\n",
      " Layer (type)                Output Shape              Param #   \n",
      "=================================================================\n",
      " conv2d (Conv2D)             (None, 46, 46, 32)        320       \n",
      "                                                                 \n",
      " max_pooling2d (MaxPooling2D  (None, 23, 23, 32)       0         \n",
      " )                                                               \n",
      "                                                                 \n",
      " conv2d_1 (Conv2D)           (None, 21, 21, 64)        18496     \n",
      "                                                                 \n",
      " max_pooling2d_1 (MaxPooling  (None, 10, 10, 64)       0         \n",
      " 2D)                                                             \n",
      "                                                                 \n",
      " flatten (Flatten)           (None, 6400)              0         \n",
      "                                                                 \n",
      " dense (Dense)               (None, 1)                 6401      \n",
      "                                                                 \n",
      "=================================================================\n",
      "Total params: 25,217\n",
      "Trainable params: 25,217\n",
      "Non-trainable params: 0\n",
      "_________________________________________________________________\n"
     ]
    }
   ],
   "source": [
    "model_gender = Sequential()\n",
    "\n",
    "model_gender.add(Conv2D(32, (3, 3),activation='relu', input_shape=(48, 48, 1)))\n",
    "model_gender.add(MaxPooling2D(2, 2))\n",
    "\n",
    "model_gender.add(Conv2D(64,(3,3),activation='relu'))\n",
    "model_gender.add(MaxPooling2D(2,2))\n",
    "\n",
    "model_gender.add(Flatten())\n",
    "model_gender.add(Dense(1, activation='sigmoid'))\n",
    "\n",
    "model_gender.compile(optimizer='adam', loss='BinaryCrossentropy', metrics=['accuracy'])\n",
    "\n",
    "model_gender.summary()"
   ]
  },
  {
   "cell_type": "code",
   "execution_count": 14,
   "id": "921fd77b",
   "metadata": {
    "scrolled": true
   },
   "outputs": [
    {
     "name": "stdout",
     "output_type": "stream",
     "text": [
      "Epoch 1/5\n",
      "25/25 [==============================] - 2s 60ms/step - loss: 0.6812 - accuracy: 0.5562 - val_loss: 0.6634 - val_accuracy: 0.5350 - lr: 0.0010\n",
      "Epoch 2/5\n",
      "25/25 [==============================] - 1s 52ms/step - loss: 0.6082 - accuracy: 0.6787 - val_loss: 0.5364 - val_accuracy: 0.7750 - lr: 0.0010\n",
      "Epoch 3/5\n",
      "25/25 [==============================] - 1s 53ms/step - loss: 0.5173 - accuracy: 0.7525 - val_loss: 0.5286 - val_accuracy: 0.7050 - lr: 0.0010\n",
      "Epoch 4/5\n",
      "25/25 [==============================] - 1s 54ms/step - loss: 0.4537 - accuracy: 0.8050 - val_loss: 0.3976 - val_accuracy: 0.8450 - lr: 0.0010\n",
      "Epoch 5/5\n",
      "25/25 [==============================] - 1s 54ms/step - loss: 0.3697 - accuracy: 0.8487 - val_loss: 0.3422 - val_accuracy: 0.8650 - lr: 0.0010\n"
     ]
    },
    {
     "data": {
      "text/plain": [
       "<keras.callbacks.History at 0x247a2a33d30>"
      ]
     },
     "execution_count": 14,
     "metadata": {},
     "output_type": "execute_result"
    }
   ],
   "source": [
    "model_gender.fit(\n",
    "    train_generator_gender, \n",
    "    epochs= 5,\n",
    "    validation_data = test_generator_gender,\n",
    "    callbacks= callbacks\n",
    ")"
   ]
  },
  {
   "cell_type": "code",
   "execution_count": 15,
   "id": "116adab4",
   "metadata": {},
   "outputs": [
    {
     "data": {
      "image/png": "[encoded data removed]",
      "text/plain": [
       "<Figure size 432x288 with 1 Axes>"
      ]
     },
     "metadata": {
      "image/png": {
       "height": 263,
       "width": 378
      },
      "needs_background": "light"
     },
     "output_type": "display_data"
    },
    {
     "data": {
      "image/png": "[encoded data removed]",
      "text/plain": [
       "<Figure size 432x288 with 1 Axes>"
      ]
     },
     "metadata": {
      "image/png": {
       "height": 263,
       "width": 378
      },
      "needs_background": "light"
     },
     "output_type": "display_data"
    }
   ],
   "source": [
    "losses_gender = pd.DataFrame(model_gender.history.history)\n",
    "losses_gender[['accuracy', 'val_accuracy']].plot(title='Gender Accuracy')\n",
    "losses_gender[['loss', 'val_loss']].plot(title='Gender Loss')\n",
    "plt.show()"
   ]
  },
  {
   "cell_type": "markdown",
   "id": "6b3554bf",
   "metadata": {},
   "source": [
    "### Evaluate TensorFlow CNN Model"
   ]
  },
  {
   "cell_type": "code",
   "execution_count": 16,
   "id": "f379fe13",
   "metadata": {},
   "outputs": [
    {
     "data": {
      "text/plain": [
       "0.7066666666666667"
      ]
     },
     "execution_count": 16,
     "metadata": {},
     "output_type": "execute_result"
    }
   ],
   "source": [
    "y_tf_pred = np.rint(model_gender.predict(X_test))\n",
    "f1_score(y_test, y_tf_pred) #General"
   ]
  },
  {
   "cell_type": "markdown",
   "id": "71b974c9",
   "metadata": {},
   "source": [
    "### Evaluation test for ethnicity"
   ]
  },
  {
   "cell_type": "code",
   "execution_count": 17,
   "id": "eec9da76",
   "metadata": {},
   "outputs": [],
   "source": [
    "#asian\n",
    "def evaluate_ethnicity(dataset, ethnicity, y_test, model, ada, prin=False):\n",
    "    y_test_e = dataset['gender'].loc[dataset['ethnicity'] == ethnicity].filter(items=y_test.index)\n",
    "    y_test_e = y_test_e.map(REVERSE_GENDERS)\n",
    "    X_test_e = dataset['pixels'].loc[dataset['ethnicity'] == ethnicity].filter(items=y_test.index).values\n",
    "    X_test_e = np.array(X_test_e.tolist())\n",
    "    X_test_e = np.reshape(X_test_e, (-1, 48, 48, 1))\n",
    "    \n",
    "    if ada:\n",
    "        X_test_e = X_test_e.reshape(len(X_test_e), 48*48, )/255\n",
    "        \n",
    "    y_tf_pred_e = np.rint(model.predict(X_test_e))\n",
    "    score = f1_score(y_test_e, y_tf_pred_e)\n",
    "    if prin:\n",
    "        print(f'f1 score for ethicity {ethnicity}: {score}')\n",
    "    return score\n",
    "\n",
    "def evaluate_all_ethnicities(dataset, y_test, model, ada):\n",
    "    scores = [evaluate_ethnicity(dataset, e, y_test, model, ada) for e in ETHNICITIES.values()]\n",
    "    return dict(zip(ETHNICITIES.values(), scores))"
   ]
  },
  {
   "cell_type": "code",
   "execution_count": 18,
   "id": "1a58008a",
   "metadata": {},
   "outputs": [
    {
     "data": {
      "text/plain": [
       "{'White': 0.6923076923076923,\n",
       " 'Black': 0.7142857142857143,\n",
       " 'Asian': 0.6896551724137931,\n",
       " 'Indian': 0.6206896551724138,\n",
       " 'Other': 0.7894736842105263}"
      ]
     },
     "execution_count": 18,
     "metadata": {},
     "output_type": "execute_result"
    }
   ],
   "source": [
    "evaluate_all_ethnicities(balanced_df, y_test, model_gender, False)"
   ]
  },
  {
   "cell_type": "markdown",
   "id": "a907e00f",
   "metadata": {},
   "source": [
    "## Custom AdalineSGD"
   ]
  },
  {
   "cell_type": "markdown",
   "id": "58ccb695",
   "metadata": {},
   "source": [
    "### Model"
   ]
  },
  {
   "cell_type": "code",
   "execution_count": 19,
   "id": "cdbd2dec",
   "metadata": {},
   "outputs": [],
   "source": [
    "from numpy.random import seed\n",
    "class AdalineSGD(object):\n",
    "    def __init__(self, eta=0.01, n_iter=20,\n",
    "        shuffle=True, random_state=None):\n",
    "        self.eta = eta\n",
    "        self.n_iter = n_iter\n",
    "        self.w_initialized = False\n",
    "        self.shuffle = shuffle\n",
    "        if random_state:\n",
    "            seed(random_state)\n",
    "            \n",
    "    def fit(self, X, y):\n",
    "        self._initialize_weights(X.shape[1])\n",
    "        self.cost_ = []\n",
    "        for i in range(self.n_iter):\n",
    "            if self.shuffle:\n",
    "                X, y = self._shuffle(X, y)\n",
    "            cost = []\n",
    "            for xi, target in zip(X, y):\n",
    "                cost.append(self._update_weights(xi, target))\n",
    "            avg_cost = sum(cost)/len(y)\n",
    "            self.cost_.append(avg_cost)\n",
    "        return self\n",
    "    \n",
    "    def partial_fit(self, X, y):\n",
    "        if not self.w_initialized:\n",
    "            self._initialize_weights(X.shape[1])\n",
    "        if y.ravel().shape[0] > 1:\n",
    "            for xi, target in zip(X, y):\n",
    "                self._update_weights(xi, target)\n",
    "        else:\n",
    "            self._update_weights(X, y)\n",
    "        return self\n",
    "    \n",
    "    def _shuffle(self, X, y):\n",
    "        r = np.random.permutation(len(y))\n",
    "        return X[r], y[r]\n",
    "    \n",
    "    def _initialize_weights(self, m):\n",
    "        self.w_ = np.zeros(1 + m)\n",
    "        self.w_initialized = True\n",
    "        \n",
    "    def _update_weights(self, xi, target):\n",
    "        output = self.net_input(xi)\n",
    "        error = (target - output)\n",
    "        self.w_[1:] += self.eta * xi.dot(error)\n",
    "        self.w_[0] += self.eta * error\n",
    "        cost = 0.5 * error**2\n",
    "        return cost\n",
    "    \n",
    "    def net_input(self, X):\n",
    "        return np.dot(X, self.w_[1:]) + self.w_[0]\n",
    "    \n",
    "    def activation(self, X):\n",
    "        return self.net_input(X)\n",
    "    \n",
    "    def predict(self, X):\n",
    "        return np.where(self.activation(X) >= 0.0, 1, 0)"
   ]
  },
  {
   "cell_type": "markdown",
   "id": "38a58fd1",
   "metadata": {},
   "source": [
    "### Data Preparation"
   ]
  },
  {
   "cell_type": "code",
   "execution_count": 20,
   "id": "267712f9",
   "metadata": {},
   "outputs": [],
   "source": [
    "X_ada_train = X_train.reshape(len(X_train), 48*48, )/255\n",
    "y_ada_train = y_train\n",
    "X_ada_test = X_test.reshape(len(X_test), 48*48, )/255\n",
    "y_ada_test = y_test"
   ]
  },
  {
   "cell_type": "code",
   "execution_count": 21,
   "id": "7bc2475c",
   "metadata": {},
   "outputs": [
    {
     "data": {
      "image/png": "[encoded data removed]",
      "text/plain": [
       "<Figure size 432x288 with 1 Axes>"
      ]
     },
     "metadata": {
      "image/png": {
       "height": 279,
       "width": 424
      },
      "needs_background": "light"
     },
     "output_type": "display_data"
    }
   ],
   "source": [
    "ada_sgd = AdalineSGD(eta=0.001, n_iter=10, shuffle=False, random_state=19)\n",
    "ada_sgd.fit(X_ada_train, y_ada_train)\n",
    "plt.plot(\n",
    "    range(1, len(ada_sgd.cost_) + 1),\n",
    "    ada_sgd.cost_, marker='o'\n",
    "        )\n",
    "plt.xlabel('Epochs')\n",
    "plt.ylabel('Average epoch loss')\n",
    "plt.tight_layout()\n",
    "plt.show()"
   ]
  },
  {
   "cell_type": "code",
   "execution_count": 22,
   "id": "ff384a9d",
   "metadata": {},
   "outputs": [],
   "source": [
    "y_ada_pred = ada_sgd.predict(X_ada_test)"
   ]
  },
  {
   "cell_type": "markdown",
   "id": "852aa5ed",
   "metadata": {},
   "source": [
    "### Evaluate AdalineSGD"
   ]
  },
  {
   "cell_type": "code",
   "execution_count": 23,
   "id": "7e218000",
   "metadata": {},
   "outputs": [
    {
     "data": {
      "text/plain": [
       "0.7723577235772359"
      ]
     },
     "execution_count": 23,
     "metadata": {},
     "output_type": "execute_result"
    }
   ],
   "source": [
    "f1_score(y_ada_test, y_ada_pred)"
   ]
  },
  {
   "cell_type": "code",
   "execution_count": 24,
   "id": "8160813a",
   "metadata": {},
   "outputs": [
    {
     "data": {
      "text/plain": [
       "{'White': 0.8,\n",
       " 'Black': 0.8372093023255813,\n",
       " 'Asian': 0.7058823529411764,\n",
       " 'Indian': 0.7547169811320755,\n",
       " 'Other': 0.7796610169491525}"
      ]
     },
     "execution_count": 24,
     "metadata": {},
     "output_type": "execute_result"
    }
   ],
   "source": [
    "evaluate_all_ethnicities(balanced_df, y_test, ada_sgd, True)"
   ]
  },
  {
   "cell_type": "markdown",
   "id": "6f40c0a3",
   "metadata": {},
   "source": [
    "## Create unbalanced dataset"
   ]
  },
  {
   "cell_type": "code",
   "execution_count": 25,
   "id": "51b6ee44",
   "metadata": {},
   "outputs": [],
   "source": [
    "#Size of majority group\n",
    "majority_sample_size = 1000\n",
    "#Size of minority group\n",
    "minority_sample_size = int(majority_sample_size * .01)\n",
    "\n",
    "white_male_df = df_age_filter.loc[ethnicity_gender_filter(df_age_filter, 0, 0)]\\\n",
    "        .sample(majority_sample_size, random_state=19)\n",
    "\n",
    "white_female_df = df_age_filter.loc[ethnicity_gender_filter(df_age_filter, 0, 1)]\\\n",
    "        .sample(majority_sample_size, random_state=19)\n",
    "\n",
    "unbalanced_df = pd.concat([\n",
    "    df_age_filter.loc[ethnicity_gender_filter(df_age_filter, i, j)]\\\n",
    "        .sample(minority_sample_size, random_state=19)\n",
    "    for i in range(1, len(ETHNICITIES))\n",
    "    for j in range(len(GENDERS))\n",
    "] + [white_female_df, white_male_df])"
   ]
  },
  {
   "cell_type": "code",
   "execution_count": 26,
   "id": "4fe83358",
   "metadata": {},
   "outputs": [
    {
     "name": "stdout",
     "output_type": "stream",
     "text": [
      "Number of records: 2080\n"
     ]
    },
    {
     "data": {
      "image/png": "[encoded data removed]",
      "text/plain": [
       "<Figure size 864x216 with 3 Axes>"
      ]
     },
     "metadata": {
      "image/png": {
       "height": 208,
       "width": 854
      },
      "needs_background": "light"
     },
     "output_type": "display_data"
    }
   ],
   "source": [
    "print_summary(unbalanced_df)"
   ]
  },
  {
   "cell_type": "markdown",
   "id": "0119da70",
   "metadata": {},
   "source": [
    "### Create Train - Test [Unbalanced]"
   ]
  },
  {
   "cell_type": "code",
   "execution_count": 27,
   "id": "fc6bc1fd",
   "metadata": {},
   "outputs": [],
   "source": [
    "unbalanced_df['pixels'] = unbalanced_df['pixels']\\\n",
    "        .apply(lambda x: np.array(x.split(), dtype='float32'))\n",
    "\n",
    "X_unbalanced = np.array(unbalanced_df['pixels'].tolist())\n",
    "X_unbalanced = np.reshape(X_unbalanced, (-1, 48, 48, 1))\n",
    "y_unbalanced = unbalanced_df['gender'].map(REVERSE_GENDERS)\n",
    "X_train_unbalanced, X_test_unbalanced, y_train_unbalanced, y_test_unbalanced = train_test_split(X_unbalanced, y_unbalanced, test_size=0.2, random_state=19)"
   ]
  },
  {
   "cell_type": "markdown",
   "id": "c0d09f6a",
   "metadata": {},
   "source": [
    "### Tensorflow"
   ]
  },
  {
   "cell_type": "code",
   "execution_count": 28,
   "id": "d988234f",
   "metadata": {},
   "outputs": [],
   "source": [
    "train_generator_gender_unbalanced = train_datagen.flow(\n",
    "    X_train_unbalanced, y_train_unbalanced, batch_size=32\n",
    ")\n",
    "\n",
    "test_generator_gender_unbalanced = test_datagen.flow(\n",
    "    X_test_unbalanced, y_test_unbalanced, batch_size=32\n",
    ")"
   ]
  },
  {
   "cell_type": "code",
   "execution_count": 29,
   "id": "00dcbe86",
   "metadata": {},
   "outputs": [
    {
     "name": "stdout",
     "output_type": "stream",
     "text": [
      "Model: \"sequential_1\"\n",
      "_________________________________________________________________\n",
      " Layer (type)                Output Shape              Param #   \n",
      "=================================================================\n",
      " conv2d_2 (Conv2D)           (None, 46, 46, 32)        320       \n",
      "                                                                 \n",
      " max_pooling2d_2 (MaxPooling  (None, 23, 23, 32)       0         \n",
      " 2D)                                                             \n",
      "                                                                 \n",
      " conv2d_3 (Conv2D)           (None, 21, 21, 64)        18496     \n",
      "                                                                 \n",
      " max_pooling2d_3 (MaxPooling  (None, 10, 10, 64)       0         \n",
      " 2D)                                                             \n",
      "                                                                 \n",
      " flatten_1 (Flatten)         (None, 6400)              0         \n",
      "                                                                 \n",
      " dense_1 (Dense)             (None, 1)                 6401      \n",
      "                                                                 \n",
      "=================================================================\n",
      "Total params: 25,217\n",
      "Trainable params: 25,217\n",
      "Non-trainable params: 0\n",
      "_________________________________________________________________\n"
     ]
    }
   ],
   "source": [
    "model_gender_unbalanced = Sequential()\n",
    "\n",
    "model_gender_unbalanced.add(Conv2D(32, (3, 3), activation='relu', input_shape=(48, 48, 1)))\n",
    "model_gender_unbalanced.add(MaxPooling2D(2, 2))\n",
    "\n",
    "model_gender_unbalanced.add(Conv2D(64,(3,3), activation='relu'))\n",
    "model_gender_unbalanced.add(MaxPooling2D(2,2))\n",
    "\n",
    "model_gender_unbalanced.add(Flatten())\n",
    "model_gender_unbalanced.add(Dense(1, activation='sigmoid'))\n",
    "\n",
    "model_gender_unbalanced.compile(optimizer='adam', loss='BinaryCrossentropy', metrics=['accuracy'])\n",
    "\n",
    "model_gender_unbalanced.summary()"
   ]
  },
  {
   "cell_type": "code",
   "execution_count": 30,
   "id": "c97ce724",
   "metadata": {},
   "outputs": [
    {
     "name": "stdout",
     "output_type": "stream",
     "text": [
      "Epoch 1/10\n",
      "52/52 [==============================] - 4s 58ms/step - loss: 0.6457 - accuracy: 0.6328 - val_loss: 0.5028 - val_accuracy: 0.7981 - lr: 0.0010\n",
      "Epoch 2/10\n",
      "52/52 [==============================] - 3s 54ms/step - loss: 0.4565 - accuracy: 0.7993 - val_loss: 0.3384 - val_accuracy: 0.8678 - lr: 0.0010\n",
      "Epoch 3/10\n",
      "52/52 [==============================] - 3s 55ms/step - loss: 0.3338 - accuracy: 0.8732 - val_loss: 0.2555 - val_accuracy: 0.9159 - lr: 0.0010\n",
      "Epoch 4/10\n",
      "52/52 [==============================] - 3s 58ms/step - loss: 0.2709 - accuracy: 0.8900 - val_loss: 0.2384 - val_accuracy: 0.9087 - lr: 0.0010\n",
      "Epoch 5/10\n",
      "52/52 [==============================] - 3s 55ms/step - loss: 0.2413 - accuracy: 0.9141 - val_loss: 0.2093 - val_accuracy: 0.9255 - lr: 0.0010\n",
      "Epoch 6/10\n",
      "52/52 [==============================] - 3s 55ms/step - loss: 0.2091 - accuracy: 0.9225 - val_loss: 0.2164 - val_accuracy: 0.9231 - lr: 0.0010\n",
      "Epoch 7/10\n",
      "52/52 [==============================] - 3s 54ms/step - loss: 0.1859 - accuracy: 0.9357 - val_loss: 0.2248 - val_accuracy: 0.9038 - lr: 0.0010\n",
      "Epoch 8/10\n",
      "52/52 [==============================] - 3s 53ms/step - loss: 0.1849 - accuracy: 0.9387 - val_loss: 0.1955 - val_accuracy: 0.9327 - lr: 0.0010\n",
      "Epoch 9/10\n",
      "52/52 [==============================] - 3s 55ms/step - loss: 0.1609 - accuracy: 0.9453 - val_loss: 0.1779 - val_accuracy: 0.9423 - lr: 0.0010\n",
      "Epoch 10/10\n",
      "52/52 [==============================] - 3s 55ms/step - loss: 0.1577 - accuracy: 0.9465 - val_loss: 0.2075 - val_accuracy: 0.9135 - lr: 0.0010\n"
     ]
    },
    {
     "data": {
      "text/plain": [
       "<keras.callbacks.History at 0x247b4b55f60>"
      ]
     },
     "execution_count": 30,
     "metadata": {},
     "output_type": "execute_result"
    }
   ],
   "source": [
    "model_gender_unbalanced.fit(\n",
    "    train_generator_gender_unbalanced, \n",
    "    epochs= 10,\n",
    "    validation_data = test_generator_gender_unbalanced,\n",
    "    callbacks= callbacks\n",
    ")"
   ]
  },
  {
   "cell_type": "markdown",
   "id": "ae2a6774",
   "metadata": {},
   "source": [
    "### Evaluation"
   ]
  },
  {
   "cell_type": "code",
   "execution_count": 31,
   "id": "e73bdfac",
   "metadata": {},
   "outputs": [
    {
     "data": {
      "text/plain": [
       "0.9277389277389277"
      ]
     },
     "execution_count": 31,
     "metadata": {},
     "output_type": "execute_result"
    }
   ],
   "source": [
    "y_tf_pred_unbalanced = np.rint(model_gender_unbalanced.predict(X_test_unbalanced))\n",
    "f1_score(y_test_unbalanced, y_tf_pred_unbalanced)"
   ]
  },
  {
   "cell_type": "code",
   "execution_count": 32,
   "id": "5b670f65",
   "metadata": {},
   "outputs": [
    {
     "data": {
      "text/plain": [
       "{'White': 0.9297820823244553,\n",
       " 'Black': 0.8,\n",
       " 'Asian': 0.6666666666666666,\n",
       " 'Indian': 1.0,\n",
       " 'Other': 1.0}"
      ]
     },
     "execution_count": 32,
     "metadata": {},
     "output_type": "execute_result"
    }
   ],
   "source": [
    "evaluate_all_ethnicities(unbalanced_df, y_test_unbalanced, model_gender_unbalanced, False)"
   ]
  },
  {
   "cell_type": "markdown",
   "id": "725b82f1",
   "metadata": {},
   "source": [
    "## AdalineSGD Unbalanced"
   ]
  },
  {
   "cell_type": "code",
   "execution_count": 33,
   "id": "901ecd48",
   "metadata": {},
   "outputs": [],
   "source": [
    "X_ada_train_unbalanced = X_train_unbalanced.reshape(len(X_train_unbalanced), 48*48, )/255\n",
    "y_ada_train_unbalanced = y_train_unbalanced\n",
    "X_ada_test_unbalanced = X_test_unbalanced.reshape(len(X_test_unbalanced), 48*48, )/255\n",
    "y_ada_test_unbalanced = y_test_unbalanced"
   ]
  },
  {
   "cell_type": "code",
   "execution_count": 34,
   "id": "1171ef50",
   "metadata": {},
   "outputs": [
    {
     "data": {
      "text/plain": [
       "<__main__.AdalineSGD at 0x247b9e053c8>"
      ]
     },
     "execution_count": 34,
     "metadata": {},
     "output_type": "execute_result"
    }
   ],
   "source": [
    "ada_sgd_unbalanced = AdalineSGD(eta=0.001, n_iter=10, shuffle=False, random_state=19)\n",
    "ada_sgd_unbalanced.fit(X_ada_train_unbalanced, y_ada_train_unbalanced)"
   ]
  },
  {
   "cell_type": "code",
   "execution_count": 35,
   "id": "c4c26d98",
   "metadata": {},
   "outputs": [
    {
     "data": {
      "text/plain": [
       "{'White': 0.7174280879864636,\n",
       " 'Black': 0.8571428571428571,\n",
       " 'Asian': 0.6666666666666666,\n",
       " 'Indian': 0.8571428571428571,\n",
       " 'Other': 0.6666666666666666}"
      ]
     },
     "execution_count": 35,
     "metadata": {},
     "output_type": "execute_result"
    }
   ],
   "source": [
    "evaluate_all_ethnicities(unbalanced_df, y_test_unbalanced, ada_sgd_unbalanced, True)"
   ]
  }
 ],
 "metadata": {
  "celltoolbar": "Raw Cell Format",
  "kernelspec": {
   "display_name": "Python 3 (ipykernel)",
   "language": "python",
   "name": "python3"
  },
  "language_info": {
   "codemirror_mode": {
    "name": "ipython",
    "version": 3
   },
   "file_extension": ".py",
   "mimetype": "text/x-python",
   "name": "python",
   "nbconvert_exporter": "python",
   "pygments_lexer": "ipython3",
   "version": "3.7.3"
  }
 },
 "nbformat": 4,
 "nbformat_minor": 5
}
